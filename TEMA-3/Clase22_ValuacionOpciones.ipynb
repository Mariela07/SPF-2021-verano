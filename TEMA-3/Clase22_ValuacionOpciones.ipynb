{
 "cells": [
  {
   "cell_type": "markdown",
   "metadata": {},
   "source": [
    "<img style=\"float: right; margin: 0px 0px 15px 15px;\" src=\"https://encrypted-tbn0.gstatic.com/images?q=tbn:ANd9GcSQt6eQo8JPYzYO4p6WmxLtccdtJ4X8WR6GzVVKbsMjyGvUDEn1mg\" width=\"300px\" height=\"100px\" />\n",
    "\n",
    "# Trabajando con opciones"
   ]
  },
  {
   "cell_type": "markdown",
   "metadata": {},
   "source": [
    "Una opción puede negociarse en el mercado secundario por lo que es importante determinar su valor $V_t$ para cada tiempo $t\\in [0, T]$. La ganancia que obtiene quién adquiere la opción se llama función de pago o \"payoff\" y claramente depende del valor del subyacente. \n",
    "\n",
    "Hay una gran variedad de opciones en el mercado y éstas se clasiflcan según su función de pago y la forma en que pueden ejercerse.  Las opciones que tienen como función de pago a\n",
    "$$ P(S(t),t)=max\\{S(T)-K,0\\} \\rightarrow \\text{En el caso de Call}$$ \n",
    "$$ P(S(t),t)=max\\{K-S(T),0\\} \\rightarrow \\text{En el caso de Put}$$ \n",
    "se llaman opciones **Vainilla**, con $h:[0,\\infty) \\to [0,\\infty)$.\n",
    "\n",
    "La opción se llama **europea** si puede ejercerse sólo en la fecha de vencimiento.\n",
    "\n",
    "Se dice que una opción es **americana** si puede ejercerse en cualquier momento antes o en la fecha de vencimiento.\n",
    "\n",
    "Una opción compleja popular son las llamadas **opciones asiáticas** cuyos pagos dependen de todas las trayectorias del precio de los activos subyacentes. Las opciones cuyos pagos dependen de las trayectorias de los precios de los activos subyacentes se denominan opciones dependientes de la ruta.\n",
    "\n",
    "Principalmente, se puede resumir que las dos razones con más peso de importancia para utilizar opciones son el **aseguramiento** y la **especulación**.\n",
    "\n",
    "## Opciones Plan Vainilla: opción de compra y opción de venta europea\n",
    "\n",
    "Una opción vainilla o estándar es una opción normal de compra o venta que no tiene características especiales o inusuales. Puede ser para tamaños y vencimientos estandarizados, y negociarse en un intercambio.\n",
    "En comparación con otras estructuras de opciones, las opciones de vanilla no son sofisticadas o complicadas.\n"
   ]
  },
  {
   "cell_type": "markdown",
   "metadata": {},
   "source": [
    "## 1. ¿Cómo descargar datos de opciones?"
   ]
  },
  {
   "cell_type": "code",
   "execution_count": 1,
   "metadata": {},
   "outputs": [],
   "source": [
    "#importar los paquetes que se van a usar\n",
    "import pandas as pd\n",
    "import pandas_datareader.data as web\n",
    "import numpy as np\n",
    "import datetime\n",
    "import matplotlib.pyplot as plt\n",
    "import scipy.stats as st\n",
    "import seaborn as sns\n",
    "%matplotlib inline\n",
    "#algunas opciones para Pandas\n",
    "pd.set_option('display.notebook_repr_html', True)\n",
    "pd.set_option('display.max_columns', 6)\n",
    "pd.set_option('display.max_rows', 10)\n",
    "pd.set_option('display.width', 78)\n",
    "pd.set_option('precision', 3)"
   ]
  },
  {
   "cell_type": "markdown",
   "metadata": {},
   "source": [
    "Usando el paquete `pandas_datareader` también podemos descargar datos de opciones. Por ejemplo, descarguemos los datos de las opciones cuyo activo subyacente son las acciones de Apple"
   ]
  },
  {
   "cell_type": "code",
   "execution_count": 11,
   "metadata": {},
   "outputs": [
    {
     "data": {
      "text/html": [
       "<div>\n",
       "<style scoped>\n",
       "    .dataframe tbody tr th:only-of-type {\n",
       "        vertical-align: middle;\n",
       "    }\n",
       "\n",
       "    .dataframe tbody tr th {\n",
       "        vertical-align: top;\n",
       "    }\n",
       "\n",
       "    .dataframe thead th {\n",
       "        text-align: right;\n",
       "    }\n",
       "</style>\n",
       "<table border=\"1\" class=\"dataframe\">\n",
       "  <thead>\n",
       "    <tr style=\"text-align: right;\">\n",
       "      <th></th>\n",
       "      <th>Strike</th>\n",
       "      <th>Expiry</th>\n",
       "      <th>Type</th>\n",
       "      <th>...</th>\n",
       "      <th>Quote_Time</th>\n",
       "      <th>Last_Trade_Date</th>\n",
       "      <th>JSON</th>\n",
       "    </tr>\n",
       "  </thead>\n",
       "  <tbody>\n",
       "    <tr>\n",
       "      <th>0</th>\n",
       "      <td>22.5</td>\n",
       "      <td>2021-07-16</td>\n",
       "      <td>call</td>\n",
       "      <td>...</td>\n",
       "      <td>2021-07-01 20:00:02</td>\n",
       "      <td>2021-07-01 19:06:10</td>\n",
       "      <td>{'contractSymbol': 'AAPL210716C00022500', 'str...</td>\n",
       "    </tr>\n",
       "    <tr>\n",
       "      <th>1</th>\n",
       "      <td>22.5</td>\n",
       "      <td>2021-07-16</td>\n",
       "      <td>put</td>\n",
       "      <td>...</td>\n",
       "      <td>2021-07-01 20:00:02</td>\n",
       "      <td>2021-06-25 14:10:03</td>\n",
       "      <td>{'contractSymbol': 'AAPL210716P00022500', 'str...</td>\n",
       "    </tr>\n",
       "    <tr>\n",
       "      <th>2</th>\n",
       "      <td>25.0</td>\n",
       "      <td>2021-07-16</td>\n",
       "      <td>call</td>\n",
       "      <td>...</td>\n",
       "      <td>2021-07-01 20:00:02</td>\n",
       "      <td>2021-06-25 19:12:10</td>\n",
       "      <td>{'contractSymbol': 'AAPL210716C00025000', 'str...</td>\n",
       "    </tr>\n",
       "    <tr>\n",
       "      <th>3</th>\n",
       "      <td>25.0</td>\n",
       "      <td>2021-07-16</td>\n",
       "      <td>put</td>\n",
       "      <td>...</td>\n",
       "      <td>2021-07-01 20:00:02</td>\n",
       "      <td>2021-04-28 16:01:28</td>\n",
       "      <td>{'contractSymbol': 'AAPL210716P00025000', 'str...</td>\n",
       "    </tr>\n",
       "    <tr>\n",
       "      <th>4</th>\n",
       "      <td>25.0</td>\n",
       "      <td>2022-01-21</td>\n",
       "      <td>call</td>\n",
       "      <td>...</td>\n",
       "      <td>2021-07-01 20:00:02</td>\n",
       "      <td>2021-06-30 14:49:33</td>\n",
       "      <td>{'contractSymbol': 'AAPL220121C00025000', 'str...</td>\n",
       "    </tr>\n",
       "    <tr>\n",
       "      <th>...</th>\n",
       "      <td>...</td>\n",
       "      <td>...</td>\n",
       "      <td>...</td>\n",
       "      <td>...</td>\n",
       "      <td>...</td>\n",
       "      <td>...</td>\n",
       "      <td>...</td>\n",
       "    </tr>\n",
       "    <tr>\n",
       "      <th>2042</th>\n",
       "      <td>1000.0</td>\n",
       "      <td>2021-09-17</td>\n",
       "      <td>call</td>\n",
       "      <td>...</td>\n",
       "      <td>2021-07-01 20:00:02</td>\n",
       "      <td>2020-08-28 19:58:31</td>\n",
       "      <td>{'contractSymbol': 'AAPL210917C01000000', 'str...</td>\n",
       "    </tr>\n",
       "    <tr>\n",
       "      <th>2043</th>\n",
       "      <td>1000.0</td>\n",
       "      <td>2022-01-21</td>\n",
       "      <td>call</td>\n",
       "      <td>...</td>\n",
       "      <td>2021-07-01 20:00:02</td>\n",
       "      <td>2020-08-28 19:59:43</td>\n",
       "      <td>{'contractSymbol': 'AAPL220121C01000000', 'str...</td>\n",
       "    </tr>\n",
       "    <tr>\n",
       "      <th>2044</th>\n",
       "      <td>1000.0</td>\n",
       "      <td>2022-06-17</td>\n",
       "      <td>call</td>\n",
       "      <td>...</td>\n",
       "      <td>2021-07-01 20:00:02</td>\n",
       "      <td>2020-08-28 19:48:09</td>\n",
       "      <td>{'contractSymbol': 'AAPL220617C01000000', 'str...</td>\n",
       "    </tr>\n",
       "    <tr>\n",
       "      <th>2045</th>\n",
       "      <td>1000.0</td>\n",
       "      <td>2022-09-16</td>\n",
       "      <td>call</td>\n",
       "      <td>...</td>\n",
       "      <td>2021-07-01 20:00:02</td>\n",
       "      <td>2020-08-28 19:59:03</td>\n",
       "      <td>{'contractSymbol': 'AAPL220916C01000000', 'str...</td>\n",
       "    </tr>\n",
       "    <tr>\n",
       "      <th>2046</th>\n",
       "      <td>1000.0</td>\n",
       "      <td>2022-09-16</td>\n",
       "      <td>put</td>\n",
       "      <td>...</td>\n",
       "      <td>2021-07-01 20:00:02</td>\n",
       "      <td>2020-08-28 17:27:35</td>\n",
       "      <td>{'contractSymbol': 'AAPL220916P01000000', 'str...</td>\n",
       "    </tr>\n",
       "  </tbody>\n",
       "</table>\n",
       "<p>2047 rows × 19 columns</p>\n",
       "</div>"
      ],
      "text/plain": [
       "      Strike     Expiry  Type  ...          Quote_Time     Last_Trade_Date  \\\n",
       "0       22.5 2021-07-16  call  ... 2021-07-01 20:00:02 2021-07-01 19:06:10   \n",
       "1       22.5 2021-07-16   put  ... 2021-07-01 20:00:02 2021-06-25 14:10:03   \n",
       "2       25.0 2021-07-16  call  ... 2021-07-01 20:00:02 2021-06-25 19:12:10   \n",
       "3       25.0 2021-07-16   put  ... 2021-07-01 20:00:02 2021-04-28 16:01:28   \n",
       "4       25.0 2022-01-21  call  ... 2021-07-01 20:00:02 2021-06-30 14:49:33   \n",
       "...      ...        ...   ...  ...                 ...                 ...   \n",
       "2042  1000.0 2021-09-17  call  ... 2021-07-01 20:00:02 2020-08-28 19:58:31   \n",
       "2043  1000.0 2022-01-21  call  ... 2021-07-01 20:00:02 2020-08-28 19:59:43   \n",
       "2044  1000.0 2022-06-17  call  ... 2021-07-01 20:00:02 2020-08-28 19:48:09   \n",
       "2045  1000.0 2022-09-16  call  ... 2021-07-01 20:00:02 2020-08-28 19:59:03   \n",
       "2046  1000.0 2022-09-16   put  ... 2021-07-01 20:00:02 2020-08-28 17:27:35   \n",
       "\n",
       "                                                   JSON  \n",
       "0     {'contractSymbol': 'AAPL210716C00022500', 'str...  \n",
       "1     {'contractSymbol': 'AAPL210716P00022500', 'str...  \n",
       "2     {'contractSymbol': 'AAPL210716C00025000', 'str...  \n",
       "3     {'contractSymbol': 'AAPL210716P00025000', 'str...  \n",
       "4     {'contractSymbol': 'AAPL220121C00025000', 'str...  \n",
       "...                                                 ...  \n",
       "2042  {'contractSymbol': 'AAPL210917C01000000', 'str...  \n",
       "2043  {'contractSymbol': 'AAPL220121C01000000', 'str...  \n",
       "2044  {'contractSymbol': 'AAPL220617C01000000', 'str...  \n",
       "2045  {'contractSymbol': 'AAPL220916C01000000', 'str...  \n",
       "2046  {'contractSymbol': 'AAPL220916P01000000', 'str...  \n",
       "\n",
       "[2047 rows x 19 columns]"
      ]
     },
     "execution_count": 11,
     "metadata": {},
     "output_type": "execute_result"
    }
   ],
   "source": [
    "aapl = web.YahooOptions('AAPL')\n",
    "aapl_opt = aapl.get_all_data().reset_index()\n",
    "# aapl_opt.set_index('Expiry', inplace=True)\n",
    "aapl_opt"
   ]
  },
  {
   "cell_type": "markdown",
   "metadata": {},
   "source": [
    "Precio del activo subyacente"
   ]
  },
  {
   "cell_type": "code",
   "execution_count": 6,
   "metadata": {
    "scrolled": true
   },
   "outputs": [
    {
     "data": {
      "text/plain": [
       "137.27"
      ]
     },
     "execution_count": 6,
     "metadata": {},
     "output_type": "execute_result"
    }
   ],
   "source": [
    "aapl_opt.Underlying_Price[0]"
   ]
  },
  {
   "cell_type": "markdown",
   "metadata": {},
   "source": [
    "Datos de la opción "
   ]
  },
  {
   "cell_type": "code",
   "execution_count": 9,
   "metadata": {
    "scrolled": true
   },
   "outputs": [
    {
     "data": {
      "text/plain": [
       "{'contractSymbol': 'AAPL210716C00022500',\n",
       " 'strike': 22.5,\n",
       " 'currency': 'USD',\n",
       " 'lastPrice': 114.41,\n",
       " 'change': 9.410004,\n",
       " 'percentChange': 8.961908,\n",
       " 'volume': 1,\n",
       " 'openInterest': 0,\n",
       " 'bid': 114.45,\n",
       " 'ask': 115.1,\n",
       " 'contractSize': 'REGULAR',\n",
       " 'expiration': 1626393600,\n",
       " 'lastTradeDate': 1625166370,\n",
       " 'impliedVolatility': 2.6250034375,\n",
       " 'inTheMoney': True}"
      ]
     },
     "execution_count": 9,
     "metadata": {},
     "output_type": "execute_result"
    }
   ],
   "source": [
    "aapl_opt.iloc[0, -1]"
   ]
  },
  {
   "cell_type": "markdown",
   "metadata": {},
   "source": [
    "### Conceptos claves\n",
    "- El precio de la oferta ('bid') se refiere al precio más alto que un comprador pagará por un activo.\n",
    "- El precio de venta ('ask') se refiere al precio más bajo que un vendedor aceptará por un activo.\n",
    "- La diferencia entre estos dos precios se conoce como 'spread'; cuanto menor es el spread, mayor es la liquidez de la garantía dada.\n",
    "- Liquidez: facilidad de convertir cierta opción en efectivo.\n",
    "- La volatilidad implícita es el pronóstico del mercado de un probable movimiento en el precio de un valor.\n",
    "- La volatilidad implícita aumenta en los mercados bajistas y disminuye cuando el mercado es alcista.\n",
    "- El último precio ('lastprice') representa el precio al que ocurrió la última operación, de una opción dada."
   ]
  },
  {
   "cell_type": "markdown",
   "metadata": {},
   "source": [
    "Una vez tenemos la información, podemos consultar de qué tipo son las opciones"
   ]
  },
  {
   "cell_type": "code",
   "execution_count": 12,
   "metadata": {},
   "outputs": [
    {
     "data": {
      "text/plain": [
       "0       call\n",
       "1        put\n",
       "2       call\n",
       "3        put\n",
       "4       call\n",
       "        ... \n",
       "2042    call\n",
       "2043    call\n",
       "2044    call\n",
       "2045    call\n",
       "2046     put\n",
       "Name: Type, Length: 2047, dtype: object"
      ]
     },
     "execution_count": 12,
     "metadata": {},
     "output_type": "execute_result"
    }
   ],
   "source": [
    "aapl_opt.loc[:, 'Type']"
   ]
  },
  {
   "cell_type": "markdown",
   "metadata": {},
   "source": [
    "o en que fecha expiran"
   ]
  },
  {
   "cell_type": "code",
   "execution_count": 15,
   "metadata": {
    "scrolled": true
   },
   "outputs": [
    {
     "data": {
      "text/plain": [
       "(Timestamp('2023-06-16 00:00:00'), Timestamp('2021-07-02 00:00:00'))"
      ]
     },
     "execution_count": 15,
     "metadata": {},
     "output_type": "execute_result"
    }
   ],
   "source": [
    "pd.set_option('display.max_rows', 10)\n",
    "aapl_opt.loc[:, 'Expiry'].max(), aapl_opt.loc[:, 'Expiry'].min()"
   ]
  },
  {
   "cell_type": "markdown",
   "metadata": {},
   "source": [
    "Por otra parte, podríamos querer consultar todas las opciones de compra (call) que expiran en cierta fecha (2020-06-19)"
   ]
  },
  {
   "cell_type": "code",
   "execution_count": 16,
   "metadata": {
    "scrolled": false
   },
   "outputs": [
    {
     "data": {
      "text/html": [
       "<div>\n",
       "<style scoped>\n",
       "    .dataframe tbody tr th:only-of-type {\n",
       "        vertical-align: middle;\n",
       "    }\n",
       "\n",
       "    .dataframe tbody tr th {\n",
       "        vertical-align: top;\n",
       "    }\n",
       "\n",
       "    .dataframe thead th {\n",
       "        text-align: right;\n",
       "    }\n",
       "</style>\n",
       "<table border=\"1\" class=\"dataframe\">\n",
       "  <thead>\n",
       "    <tr style=\"text-align: right;\">\n",
       "      <th></th>\n",
       "      <th>Strike</th>\n",
       "      <th>Expiry</th>\n",
       "      <th>Type</th>\n",
       "      <th>...</th>\n",
       "      <th>Quote_Time</th>\n",
       "      <th>Last_Trade_Date</th>\n",
       "      <th>JSON</th>\n",
       "    </tr>\n",
       "  </thead>\n",
       "  <tbody>\n",
       "    <tr>\n",
       "      <th>6</th>\n",
       "      <td>27.50</td>\n",
       "      <td>2021-09-17</td>\n",
       "      <td>call</td>\n",
       "      <td>...</td>\n",
       "      <td>2021-07-01 20:00:02</td>\n",
       "      <td>2021-05-21 15:54:27</td>\n",
       "      <td>{'contractSymbol': 'AAPL210917C00027500', 'str...</td>\n",
       "    </tr>\n",
       "    <tr>\n",
       "      <th>10</th>\n",
       "      <td>28.75</td>\n",
       "      <td>2021-09-17</td>\n",
       "      <td>call</td>\n",
       "      <td>...</td>\n",
       "      <td>2021-07-01 20:00:02</td>\n",
       "      <td>2021-03-05 19:25:13</td>\n",
       "      <td>{'contractSymbol': 'AAPL210917C00028750', 'str...</td>\n",
       "    </tr>\n",
       "    <tr>\n",
       "      <th>19</th>\n",
       "      <td>30.00</td>\n",
       "      <td>2021-09-17</td>\n",
       "      <td>call</td>\n",
       "      <td>...</td>\n",
       "      <td>2021-07-01 20:00:02</td>\n",
       "      <td>2021-06-22 15:30:02</td>\n",
       "      <td>{'contractSymbol': 'AAPL210917C00030000', 'str...</td>\n",
       "    </tr>\n",
       "    <tr>\n",
       "      <th>27</th>\n",
       "      <td>31.25</td>\n",
       "      <td>2021-09-17</td>\n",
       "      <td>call</td>\n",
       "      <td>...</td>\n",
       "      <td>2021-07-01 20:00:02</td>\n",
       "      <td>2021-06-15 13:36:04</td>\n",
       "      <td>{'contractSymbol': 'AAPL210917C00031250', 'str...</td>\n",
       "    </tr>\n",
       "    <tr>\n",
       "      <th>33</th>\n",
       "      <td>32.50</td>\n",
       "      <td>2021-09-17</td>\n",
       "      <td>call</td>\n",
       "      <td>...</td>\n",
       "      <td>2021-07-01 20:00:02</td>\n",
       "      <td>2021-06-09 15:30:24</td>\n",
       "      <td>{'contractSymbol': 'AAPL210917C00032500', 'str...</td>\n",
       "    </tr>\n",
       "    <tr>\n",
       "      <th>...</th>\n",
       "      <td>...</td>\n",
       "      <td>...</td>\n",
       "      <td>...</td>\n",
       "      <td>...</td>\n",
       "      <td>...</td>\n",
       "      <td>...</td>\n",
       "      <td>...</td>\n",
       "    </tr>\n",
       "    <tr>\n",
       "      <th>2023</th>\n",
       "      <td>720.00</td>\n",
       "      <td>2021-09-17</td>\n",
       "      <td>call</td>\n",
       "      <td>...</td>\n",
       "      <td>2021-07-01 20:00:02</td>\n",
       "      <td>2020-08-28 19:25:09</td>\n",
       "      <td>{'contractSymbol': 'AAPL210917C00720000', 'str...</td>\n",
       "    </tr>\n",
       "    <tr>\n",
       "      <th>2029</th>\n",
       "      <td>740.00</td>\n",
       "      <td>2021-09-17</td>\n",
       "      <td>call</td>\n",
       "      <td>...</td>\n",
       "      <td>2021-07-01 20:00:02</td>\n",
       "      <td>2020-08-28 15:33:47</td>\n",
       "      <td>{'contractSymbol': 'AAPL210917C00740000', 'str...</td>\n",
       "    </tr>\n",
       "    <tr>\n",
       "      <th>2034</th>\n",
       "      <td>800.00</td>\n",
       "      <td>2021-09-17</td>\n",
       "      <td>call</td>\n",
       "      <td>...</td>\n",
       "      <td>2021-07-01 20:00:02</td>\n",
       "      <td>2020-08-28 19:17:58</td>\n",
       "      <td>{'contractSymbol': 'AAPL210917C00800000', 'str...</td>\n",
       "    </tr>\n",
       "    <tr>\n",
       "      <th>2038</th>\n",
       "      <td>900.00</td>\n",
       "      <td>2021-09-17</td>\n",
       "      <td>call</td>\n",
       "      <td>...</td>\n",
       "      <td>2021-07-01 20:00:02</td>\n",
       "      <td>2020-08-27 15:03:20</td>\n",
       "      <td>{'contractSymbol': 'AAPL210917C00900000', 'str...</td>\n",
       "    </tr>\n",
       "    <tr>\n",
       "      <th>2042</th>\n",
       "      <td>1000.00</td>\n",
       "      <td>2021-09-17</td>\n",
       "      <td>call</td>\n",
       "      <td>...</td>\n",
       "      <td>2021-07-01 20:00:02</td>\n",
       "      <td>2020-08-28 19:58:31</td>\n",
       "      <td>{'contractSymbol': 'AAPL210917C01000000', 'str...</td>\n",
       "    </tr>\n",
       "  </tbody>\n",
       "</table>\n",
       "<p>110 rows × 19 columns</p>\n",
       "</div>"
      ],
      "text/plain": [
       "       Strike     Expiry  Type  ...          Quote_Time     Last_Trade_Date  \\\n",
       "6       27.50 2021-09-17  call  ... 2021-07-01 20:00:02 2021-05-21 15:54:27   \n",
       "10      28.75 2021-09-17  call  ... 2021-07-01 20:00:02 2021-03-05 19:25:13   \n",
       "19      30.00 2021-09-17  call  ... 2021-07-01 20:00:02 2021-06-22 15:30:02   \n",
       "27      31.25 2021-09-17  call  ... 2021-07-01 20:00:02 2021-06-15 13:36:04   \n",
       "33      32.50 2021-09-17  call  ... 2021-07-01 20:00:02 2021-06-09 15:30:24   \n",
       "...       ...        ...   ...  ...                 ...                 ...   \n",
       "2023   720.00 2021-09-17  call  ... 2021-07-01 20:00:02 2020-08-28 19:25:09   \n",
       "2029   740.00 2021-09-17  call  ... 2021-07-01 20:00:02 2020-08-28 15:33:47   \n",
       "2034   800.00 2021-09-17  call  ... 2021-07-01 20:00:02 2020-08-28 19:17:58   \n",
       "2038   900.00 2021-09-17  call  ... 2021-07-01 20:00:02 2020-08-27 15:03:20   \n",
       "2042  1000.00 2021-09-17  call  ... 2021-07-01 20:00:02 2020-08-28 19:58:31   \n",
       "\n",
       "                                                   JSON  \n",
       "6     {'contractSymbol': 'AAPL210917C00027500', 'str...  \n",
       "10    {'contractSymbol': 'AAPL210917C00028750', 'str...  \n",
       "19    {'contractSymbol': 'AAPL210917C00030000', 'str...  \n",
       "27    {'contractSymbol': 'AAPL210917C00031250', 'str...  \n",
       "33    {'contractSymbol': 'AAPL210917C00032500', 'str...  \n",
       "...                                                 ...  \n",
       "2023  {'contractSymbol': 'AAPL210917C00720000', 'str...  \n",
       "2029  {'contractSymbol': 'AAPL210917C00740000', 'str...  \n",
       "2034  {'contractSymbol': 'AAPL210917C00800000', 'str...  \n",
       "2038  {'contractSymbol': 'AAPL210917C00900000', 'str...  \n",
       "2042  {'contractSymbol': 'AAPL210917C01000000', 'str...  \n",
       "\n",
       "[110 rows x 19 columns]"
      ]
     },
     "execution_count": 16,
     "metadata": {},
     "output_type": "execute_result"
    }
   ],
   "source": [
    "fecha1 = '2021-09-17'\n",
    "fecha2 = '2023-06-16'\n",
    "call06_f1 = aapl_opt.loc[(aapl_opt.Expiry== fecha1) & (aapl_opt.Type=='call')]\n",
    "call06_f2 = aapl_opt.loc[(aapl_opt.Expiry== fecha2) & (aapl_opt.Type=='call')]\n",
    "call06_f1\n"
   ]
  },
  {
   "cell_type": "markdown",
   "metadata": {},
   "source": [
    "## 2. ¿Qué es la volatilidad implícita?"
   ]
  },
  {
   "cell_type": "markdown",
   "metadata": {},
   "source": [
    "**Volatilidad:** desviación estándar de los rendimientos.\n",
    "- ¿Cómo se calcula?\n",
    "- ¿Para qué calcular la volatilidad?"
   ]
  },
  {
   "attachments": {
    "imagen.png": {
     "image/png": "[encoded data removed]"
    }
   },
   "cell_type": "markdown",
   "metadata": {},
   "source": [
    "- **Para valuar derivados**, por ejemplo **opciones**.\n",
    "- Método de valuación de riesgo neutral (se supone que el precio del activo $S_t$ no se ve afectado por el riesgo de mercado).\n",
    "\n",
    "Recorderis de cuantitativas:\n",
    "1. Ecuación de Black-Scholes\n",
    "$$ dS(t) = \\mu S(t) + \\sigma S(t)dW_t$$\n",
    "2. Solución de la ecuación\n",
    "\n",
    "El valor de una opción Europea de vainilla $V_t$ puede obtenerse por:\n",
    "$$V_t = F(t,S_t)$$ donde\n",
    "![imagen.png](attachment:imagen.png)\n",
    "3. Opción de compra europea, suponiendo que los precios del activo son lognormales\n",
    "\n",
    "4. Opción de venta europea, suponiendo que los precios del activo son lognormales"
   ]
  },
  {
   "cell_type": "markdown",
   "metadata": {},
   "source": [
    "Entonces, ¿qué es la **volatilidad implícita**?\n",
    "\n",
    "La volatilidad es una medida de la incertidumbre sobre el comportamiento futuro de un activo, que se mide habitualmente como la desviación típica de la rentabilidad de dicho activo. "
   ]
  },
  {
   "attachments": {
    "imagen.png": {
     "image/png": "[encoded data removed]"
    }
   },
   "cell_type": "markdown",
   "metadata": {},
   "source": [
    "## Volatility smile \n",
    "-  Cuando las opciones con la misma fecha de vencimiento y el mismo activo subyacente, pero diferentes precios de ejercicio, se grafican por la volatilidad implícita, la tendencia es que ese gráfico muestre una sonrisa.\n",
    "-  La sonrisa muestra que las opciones más alejadas 'in- or out-of-the-money' tienen la mayor volatilidad implícita.\n",
    "- No todas las opciones tendrán una sonrisa de volatilidad implícita. Las opciones de acciones a corto plazo y las opciones relacionadas con la moneda tienen más probabilidades de tener una sonrisa de volatilidad\n",
    "\n",
    "![imagen.png](attachment:imagen.png)\n",
    "\n",
    "> Fuente: https://www.investopedia.com/terms/v/volatilitysmile.asp"
   ]
  },
  {
   "cell_type": "markdown",
   "metadata": {},
   "source": [
    "> ### Validar para la `fecha = 2020-06-19` y para la fecha `fecha = '2021-01-15'`"
   ]
  },
  {
   "cell_type": "code",
   "execution_count": 17,
   "metadata": {
    "scrolled": false
   },
   "outputs": [
    {
     "data": {
      "image/png": "[encoded data removed]",
      "text/plain": [
       "<Figure size 576x432 with 1 Axes>"
      ]
     },
     "metadata": {
      "needs_background": "light"
     },
     "output_type": "display_data"
    }
   ],
   "source": [
    "# para los call de la fecha 1\n",
    "ax = call06_f1.set_index('Strike').loc[:, 'IV'].plot(figsize=(8,6))\n",
    "ax.axvline(call06_f1.Underlying_Price.iloc[0], color='g');"
   ]
  },
  {
   "cell_type": "code",
   "execution_count": 18,
   "metadata": {},
   "outputs": [
    {
     "data": {
      "image/png": "[encoded data removed]",
      "text/plain": [
       "<Figure size 576x432 with 1 Axes>"
      ]
     },
     "metadata": {
      "needs_background": "light"
     },
     "output_type": "display_data"
    }
   ],
   "source": [
    "# para los call de la fecha 2\n",
    "ax = call06_f2.set_index('Strike').loc[:, 'IV'].plot(figsize=(8,6))\n",
    "ax.axvline(call06_f2.Underlying_Price.iloc[0], color='g');"
   ]
  },
  {
   "cell_type": "markdown",
   "metadata": {},
   "source": [
    "Analicemos ahora datos de los `put`"
   ]
  },
  {
   "cell_type": "code",
   "execution_count": 19,
   "metadata": {},
   "outputs": [
    {
     "data": {
      "text/html": [
       "<div>\n",
       "<style scoped>\n",
       "    .dataframe tbody tr th:only-of-type {\n",
       "        vertical-align: middle;\n",
       "    }\n",
       "\n",
       "    .dataframe tbody tr th {\n",
       "        vertical-align: top;\n",
       "    }\n",
       "\n",
       "    .dataframe thead th {\n",
       "        text-align: right;\n",
       "    }\n",
       "</style>\n",
       "<table border=\"1\" class=\"dataframe\">\n",
       "  <thead>\n",
       "    <tr style=\"text-align: right;\">\n",
       "      <th></th>\n",
       "      <th>Strike</th>\n",
       "      <th>Expiry</th>\n",
       "      <th>Type</th>\n",
       "      <th>...</th>\n",
       "      <th>Quote_Time</th>\n",
       "      <th>Last_Trade_Date</th>\n",
       "      <th>JSON</th>\n",
       "    </tr>\n",
       "  </thead>\n",
       "  <tbody>\n",
       "    <tr>\n",
       "      <th>7</th>\n",
       "      <td>27.50</td>\n",
       "      <td>2021-09-17</td>\n",
       "      <td>put</td>\n",
       "      <td>...</td>\n",
       "      <td>2021-07-01 20:00:02</td>\n",
       "      <td>2021-06-10 14:50:57</td>\n",
       "      <td>{'contractSymbol': 'AAPL210917P00027500', 'str...</td>\n",
       "    </tr>\n",
       "    <tr>\n",
       "      <th>11</th>\n",
       "      <td>28.75</td>\n",
       "      <td>2021-09-17</td>\n",
       "      <td>put</td>\n",
       "      <td>...</td>\n",
       "      <td>2021-07-01 20:00:02</td>\n",
       "      <td>2021-06-10 14:51:30</td>\n",
       "      <td>{'contractSymbol': 'AAPL210917P00028750', 'str...</td>\n",
       "    </tr>\n",
       "    <tr>\n",
       "      <th>20</th>\n",
       "      <td>30.00</td>\n",
       "      <td>2021-09-17</td>\n",
       "      <td>put</td>\n",
       "      <td>...</td>\n",
       "      <td>2021-07-01 20:00:02</td>\n",
       "      <td>2021-06-10 14:51:56</td>\n",
       "      <td>{'contractSymbol': 'AAPL210917P00030000', 'str...</td>\n",
       "    </tr>\n",
       "    <tr>\n",
       "      <th>28</th>\n",
       "      <td>31.25</td>\n",
       "      <td>2021-09-17</td>\n",
       "      <td>put</td>\n",
       "      <td>...</td>\n",
       "      <td>2021-07-01 20:00:02</td>\n",
       "      <td>2021-06-10 14:52:13</td>\n",
       "      <td>{'contractSymbol': 'AAPL210917P00031250', 'str...</td>\n",
       "    </tr>\n",
       "    <tr>\n",
       "      <th>34</th>\n",
       "      <td>32.50</td>\n",
       "      <td>2021-09-17</td>\n",
       "      <td>put</td>\n",
       "      <td>...</td>\n",
       "      <td>2021-07-01 20:00:02</td>\n",
       "      <td>2021-06-10 14:53:07</td>\n",
       "      <td>{'contractSymbol': 'AAPL210917P00032500', 'str...</td>\n",
       "    </tr>\n",
       "    <tr>\n",
       "      <th>...</th>\n",
       "      <td>...</td>\n",
       "      <td>...</td>\n",
       "      <td>...</td>\n",
       "      <td>...</td>\n",
       "      <td>...</td>\n",
       "      <td>...</td>\n",
       "      <td>...</td>\n",
       "    </tr>\n",
       "    <tr>\n",
       "      <th>1969</th>\n",
       "      <td>560.00</td>\n",
       "      <td>2021-09-17</td>\n",
       "      <td>put</td>\n",
       "      <td>...</td>\n",
       "      <td>2021-07-01 20:00:02</td>\n",
       "      <td>2020-08-28 19:40:53</td>\n",
       "      <td>{'contractSymbol': 'AAPL210917P00560000', 'str...</td>\n",
       "    </tr>\n",
       "    <tr>\n",
       "      <th>1977</th>\n",
       "      <td>580.00</td>\n",
       "      <td>2021-09-17</td>\n",
       "      <td>put</td>\n",
       "      <td>...</td>\n",
       "      <td>2021-07-01 20:00:02</td>\n",
       "      <td>2020-08-25 13:59:05</td>\n",
       "      <td>{'contractSymbol': 'AAPL210917P00580000', 'str...</td>\n",
       "    </tr>\n",
       "    <tr>\n",
       "      <th>1983</th>\n",
       "      <td>600.00</td>\n",
       "      <td>2021-09-17</td>\n",
       "      <td>put</td>\n",
       "      <td>...</td>\n",
       "      <td>2021-07-01 20:00:02</td>\n",
       "      <td>2020-08-25 17:44:08</td>\n",
       "      <td>{'contractSymbol': 'AAPL210917P00600000', 'str...</td>\n",
       "    </tr>\n",
       "    <tr>\n",
       "      <th>1996</th>\n",
       "      <td>640.00</td>\n",
       "      <td>2021-09-17</td>\n",
       "      <td>put</td>\n",
       "      <td>...</td>\n",
       "      <td>2021-07-01 20:00:02</td>\n",
       "      <td>2020-08-27 16:29:02</td>\n",
       "      <td>{'contractSymbol': 'AAPL210917P00640000', 'str...</td>\n",
       "    </tr>\n",
       "    <tr>\n",
       "      <th>2016</th>\n",
       "      <td>700.00</td>\n",
       "      <td>2021-09-17</td>\n",
       "      <td>put</td>\n",
       "      <td>...</td>\n",
       "      <td>2021-07-01 20:00:02</td>\n",
       "      <td>2020-08-28 14:57:19</td>\n",
       "      <td>{'contractSymbol': 'AAPL210917P00700000', 'str...</td>\n",
       "    </tr>\n",
       "  </tbody>\n",
       "</table>\n",
       "<p>102 rows × 19 columns</p>\n",
       "</div>"
      ],
      "text/plain": [
       "      Strike     Expiry Type  ...          Quote_Time     Last_Trade_Date  \\\n",
       "7      27.50 2021-09-17  put  ... 2021-07-01 20:00:02 2021-06-10 14:50:57   \n",
       "11     28.75 2021-09-17  put  ... 2021-07-01 20:00:02 2021-06-10 14:51:30   \n",
       "20     30.00 2021-09-17  put  ... 2021-07-01 20:00:02 2021-06-10 14:51:56   \n",
       "28     31.25 2021-09-17  put  ... 2021-07-01 20:00:02 2021-06-10 14:52:13   \n",
       "34     32.50 2021-09-17  put  ... 2021-07-01 20:00:02 2021-06-10 14:53:07   \n",
       "...      ...        ...  ...  ...                 ...                 ...   \n",
       "1969  560.00 2021-09-17  put  ... 2021-07-01 20:00:02 2020-08-28 19:40:53   \n",
       "1977  580.00 2021-09-17  put  ... 2021-07-01 20:00:02 2020-08-25 13:59:05   \n",
       "1983  600.00 2021-09-17  put  ... 2021-07-01 20:00:02 2020-08-25 17:44:08   \n",
       "1996  640.00 2021-09-17  put  ... 2021-07-01 20:00:02 2020-08-27 16:29:02   \n",
       "2016  700.00 2021-09-17  put  ... 2021-07-01 20:00:02 2020-08-28 14:57:19   \n",
       "\n",
       "                                                   JSON  \n",
       "7     {'contractSymbol': 'AAPL210917P00027500', 'str...  \n",
       "11    {'contractSymbol': 'AAPL210917P00028750', 'str...  \n",
       "20    {'contractSymbol': 'AAPL210917P00030000', 'str...  \n",
       "28    {'contractSymbol': 'AAPL210917P00031250', 'str...  \n",
       "34    {'contractSymbol': 'AAPL210917P00032500', 'str...  \n",
       "...                                                 ...  \n",
       "1969  {'contractSymbol': 'AAPL210917P00560000', 'str...  \n",
       "1977  {'contractSymbol': 'AAPL210917P00580000', 'str...  \n",
       "1983  {'contractSymbol': 'AAPL210917P00600000', 'str...  \n",
       "1996  {'contractSymbol': 'AAPL210917P00640000', 'str...  \n",
       "2016  {'contractSymbol': 'AAPL210917P00700000', 'str...  \n",
       "\n",
       "[102 rows x 19 columns]"
      ]
     },
     "execution_count": 19,
     "metadata": {},
     "output_type": "execute_result"
    }
   ],
   "source": [
    "put06_f1 = aapl_opt.loc[(aapl_opt.Expiry==fecha1) & (aapl_opt.Type=='put')]\n",
    "put06_f1"
   ]
  },
  {
   "cell_type": "markdown",
   "metadata": {},
   "source": [
    "Para los `put` de la `fecha 1`"
   ]
  },
  {
   "cell_type": "code",
   "execution_count": 20,
   "metadata": {},
   "outputs": [
    {
     "data": {
      "text/plain": [
       "<matplotlib.lines.Line2D at 0x7fec08bf5e80>"
      ]
     },
     "execution_count": 20,
     "metadata": {},
     "output_type": "execute_result"
    },
    {
     "data": {
      "image/png": "[encoded data removed]",
      "text/plain": [
       "<Figure size 576x432 with 1 Axes>"
      ]
     },
     "metadata": {
      "needs_background": "light"
     },
     "output_type": "display_data"
    }
   ],
   "source": [
    "ax = put06_f1.set_index('Strike').loc[:, 'IV'].plot(figsize=(8,6))\n",
    "ax.axvline(put06_f1.Underlying_Price.iloc[0], color='g')"
   ]
  },
  {
   "cell_type": "markdown",
   "metadata": {},
   "source": [
    "Con lo que hemos aprendido, deberíamos ser capaces de crear una función que nos devuelva un `DataFrame` de `pandas` con los precios de cierre ajustados de ciertas compañías en ciertas fechas:\n",
    "- Escribir la función a continuación"
   ]
  },
  {
   "cell_type": "code",
   "execution_count": 21,
   "metadata": {},
   "outputs": [],
   "source": [
    "# Función para descargar precios de cierre ajustados:\n",
    "def get_adj_closes(tickers, start_date=None, end_date=None):\n",
    "    # Fecha inicio por defecto (start_date='2010-01-01') y fecha fin por defecto (end_date=today)\n",
    "    # Descargamos DataFrame con todos los datos\n",
    "    closes = web.DataReader(name=tickers, data_source='yahoo', start=start_date, end=end_date)\n",
    "    # Solo necesitamos los precios ajustados en el cierre\n",
    "    closes = closes['Adj Close']\n",
    "    # Se ordenan los índices de manera ascendente\n",
    "    closes.sort_index(inplace=True)\n",
    "    return closes"
   ]
  },
  {
   "cell_type": "code",
   "execution_count": 67,
   "metadata": {},
   "outputs": [
    {
     "data": {
      "text/plain": [
       "'2021-07-01'"
      ]
     },
     "execution_count": 67,
     "metadata": {},
     "output_type": "execute_result"
    }
   ],
   "source": [
    "import quandl\n",
    "from datetime import date\n",
    "\n",
    "def get_adj_closes(tickers, start_date=None, end_date=None):\n",
    "\n",
    "    ######################### USar la api key que les arroja la página de quandl\n",
    "    quandl.ApiConfig.api_key = \"My9ygJsz7yTDx_9jcneH\"\n",
    "\n",
    "    date_d = {'gte': start_date, 'lte': date.today().strftime('%Y-%m-%d') }\n",
    "    column = {'columns': ['ticker', 'date', 'Adj_close']}\n",
    "\n",
    "    data = quandl.get_table('WIKI/PRICES', qopts=column, ticker=ticker, date=date_d)# ticker = 'WIKI/AAPL' #'AAPL.US'\n",
    "\n",
    "    # Poner los índices como las fechas\n",
    "    data = pd.concat([data[data['ticker'] == ti].set_index('date') for ti in ticker], axis=1).drop(columns=['ticker'])\n",
    "\n",
    "    # Seleccionar los ADJ_CLOSE de ticker y renombrar las columnas\n",
    "    data.columns = ticker\n",
    "    \n",
    "    return data\n",
    "date.today().strftime('%Y-%m-%d')"
   ]
  },
  {
   "cell_type": "markdown",
   "metadata": {},
   "source": [
    "- Obtener como ejemplo los precios de cierre de Apple del año pasado hasta la fecha. Graficar..."
   ]
  },
  {
   "cell_type": "code",
   "execution_count": 70,
   "metadata": {},
   "outputs": [
    {
     "data": {
      "text/html": [
       "<div>\n",
       "<style scoped>\n",
       "    .dataframe tbody tr th:only-of-type {\n",
       "        vertical-align: middle;\n",
       "    }\n",
       "\n",
       "    .dataframe tbody tr th {\n",
       "        vertical-align: top;\n",
       "    }\n",
       "\n",
       "    .dataframe thead th {\n",
       "        text-align: right;\n",
       "    }\n",
       "</style>\n",
       "<table border=\"1\" class=\"dataframe\">\n",
       "  <thead>\n",
       "    <tr style=\"text-align: right;\">\n",
       "      <th></th>\n",
       "      <th>AAPL</th>\n",
       "    </tr>\n",
       "    <tr>\n",
       "      <th>date</th>\n",
       "      <th></th>\n",
       "    </tr>\n",
       "  </thead>\n",
       "  <tbody>\n",
       "    <tr>\n",
       "      <th>2018-03-27</th>\n",
       "      <td>168.340</td>\n",
       "    </tr>\n",
       "    <tr>\n",
       "      <th>2018-03-26</th>\n",
       "      <td>172.770</td>\n",
       "    </tr>\n",
       "    <tr>\n",
       "      <th>2018-03-23</th>\n",
       "      <td>164.940</td>\n",
       "    </tr>\n",
       "    <tr>\n",
       "      <th>2018-03-22</th>\n",
       "      <td>168.845</td>\n",
       "    </tr>\n",
       "    <tr>\n",
       "      <th>2018-03-21</th>\n",
       "      <td>171.270</td>\n",
       "    </tr>\n",
       "    <tr>\n",
       "      <th>...</th>\n",
       "      <td>...</td>\n",
       "    </tr>\n",
       "    <tr>\n",
       "      <th>2018-01-08</th>\n",
       "      <td>174.350</td>\n",
       "    </tr>\n",
       "    <tr>\n",
       "      <th>2018-01-05</th>\n",
       "      <td>175.000</td>\n",
       "    </tr>\n",
       "    <tr>\n",
       "      <th>2018-01-04</th>\n",
       "      <td>173.030</td>\n",
       "    </tr>\n",
       "    <tr>\n",
       "      <th>2018-01-03</th>\n",
       "      <td>172.230</td>\n",
       "    </tr>\n",
       "    <tr>\n",
       "      <th>2018-01-02</th>\n",
       "      <td>172.260</td>\n",
       "    </tr>\n",
       "  </tbody>\n",
       "</table>\n",
       "<p>59 rows × 1 columns</p>\n",
       "</div>"
      ],
      "text/plain": [
       "               AAPL\n",
       "date               \n",
       "2018-03-27  168.340\n",
       "2018-03-26  172.770\n",
       "2018-03-23  164.940\n",
       "2018-03-22  168.845\n",
       "2018-03-21  171.270\n",
       "...             ...\n",
       "2018-01-08  174.350\n",
       "2018-01-05  175.000\n",
       "2018-01-04  173.030\n",
       "2018-01-03  172.230\n",
       "2018-01-02  172.260\n",
       "\n",
       "[59 rows x 1 columns]"
      ]
     },
     "execution_count": 70,
     "metadata": {},
     "output_type": "execute_result"
    }
   ],
   "source": [
    "ticker = ['AAPL']\n",
    "start_date = '2018-01-01'\n",
    "\n",
    "closes_aapl = get_adj_closes(ticker, start_date)\n",
    "# closes_aapl.plot(figsize=(8,5));\n",
    "# plt.legend(ticker);\n",
    "closes_aapl"
   ]
  },
  {
   "cell_type": "code",
   "execution_count": 61,
   "metadata": {},
   "outputs": [
    {
     "data": {
      "text/html": [
       "<div>\n",
       "<style scoped>\n",
       "    .dataframe tbody tr th:only-of-type {\n",
       "        vertical-align: middle;\n",
       "    }\n",
       "\n",
       "    .dataframe tbody tr th {\n",
       "        vertical-align: top;\n",
       "    }\n",
       "\n",
       "    .dataframe thead th {\n",
       "        text-align: right;\n",
       "    }\n",
       "</style>\n",
       "<table border=\"1\" class=\"dataframe\">\n",
       "  <thead>\n",
       "    <tr style=\"text-align: right;\">\n",
       "      <th></th>\n",
       "      <th>AAPL</th>\n",
       "    </tr>\n",
       "    <tr>\n",
       "      <th>date</th>\n",
       "      <th></th>\n",
       "    </tr>\n",
       "  </thead>\n",
       "  <tbody>\n",
       "    <tr>\n",
       "      <th>2018-03-27</th>\n",
       "      <td>168.340</td>\n",
       "    </tr>\n",
       "    <tr>\n",
       "      <th>2018-03-26</th>\n",
       "      <td>172.770</td>\n",
       "    </tr>\n",
       "    <tr>\n",
       "      <th>2018-03-23</th>\n",
       "      <td>164.940</td>\n",
       "    </tr>\n",
       "    <tr>\n",
       "      <th>2018-03-22</th>\n",
       "      <td>168.845</td>\n",
       "    </tr>\n",
       "    <tr>\n",
       "      <th>2018-03-21</th>\n",
       "      <td>171.270</td>\n",
       "    </tr>\n",
       "    <tr>\n",
       "      <th>...</th>\n",
       "      <td>...</td>\n",
       "    </tr>\n",
       "    <tr>\n",
       "      <th>2017-01-09</th>\n",
       "      <td>117.520</td>\n",
       "    </tr>\n",
       "    <tr>\n",
       "      <th>2017-01-06</th>\n",
       "      <td>116.454</td>\n",
       "    </tr>\n",
       "    <tr>\n",
       "      <th>2017-01-05</th>\n",
       "      <td>115.170</td>\n",
       "    </tr>\n",
       "    <tr>\n",
       "      <th>2017-01-04</th>\n",
       "      <td>114.587</td>\n",
       "    </tr>\n",
       "    <tr>\n",
       "      <th>2017-01-03</th>\n",
       "      <td>114.715</td>\n",
       "    </tr>\n",
       "  </tbody>\n",
       "</table>\n",
       "<p>308 rows × 1 columns</p>\n",
       "</div>"
      ],
      "text/plain": [
       "               AAPL\n",
       "date               \n",
       "2018-03-27  168.340\n",
       "2018-03-26  172.770\n",
       "2018-03-23  164.940\n",
       "2018-03-22  168.845\n",
       "2018-03-21  171.270\n",
       "...             ...\n",
       "2017-01-09  117.520\n",
       "2017-01-06  116.454\n",
       "2017-01-05  115.170\n",
       "2017-01-04  114.587\n",
       "2017-01-03  114.715\n",
       "\n",
       "[308 rows x 1 columns]"
      ]
     },
     "execution_count": 61,
     "metadata": {},
     "output_type": "execute_result"
    }
   ],
   "source": [
    "closes_aapl"
   ]
  },
  {
   "cell_type": "markdown",
   "metadata": {},
   "source": [
    "- Escribir una función que pasándole el histórico de precios devuelva los rendimientos logarítmicos:"
   ]
  },
  {
   "cell_type": "code",
   "execution_count": 25,
   "metadata": {},
   "outputs": [],
   "source": [
    "def calc_daily_ret(closes):\n",
    "    return np.log(closes/closes.shift(1)).iloc[1:]"
   ]
  },
  {
   "cell_type": "markdown",
   "metadata": {},
   "source": [
    "- Graficar..."
   ]
  },
  {
   "cell_type": "code",
   "execution_count": 26,
   "metadata": {},
   "outputs": [
    {
     "data": {
      "image/png": "[encoded data removed]",
      "text/plain": [
       "<Figure size 576x432 with 1 Axes>"
      ]
     },
     "metadata": {
      "needs_background": "light"
     },
     "output_type": "display_data"
    }
   ],
   "source": [
    "ret_aapl = calc_daily_ret(closes_aapl)\n",
    "ret_aapl.plot(figsize=(8,6));"
   ]
  },
  {
   "cell_type": "markdown",
   "metadata": {},
   "source": [
    "También, descargar datos de opciones de Apple:"
   ]
  },
  {
   "cell_type": "code",
   "execution_count": 27,
   "metadata": {
    "scrolled": false
   },
   "outputs": [
    {
     "data": {
      "text/html": [
       "<div>\n",
       "<style scoped>\n",
       "    .dataframe tbody tr th:only-of-type {\n",
       "        vertical-align: middle;\n",
       "    }\n",
       "\n",
       "    .dataframe tbody tr th {\n",
       "        vertical-align: top;\n",
       "    }\n",
       "\n",
       "    .dataframe thead th {\n",
       "        text-align: right;\n",
       "    }\n",
       "</style>\n",
       "<table border=\"1\" class=\"dataframe\">\n",
       "  <thead>\n",
       "    <tr style=\"text-align: right;\">\n",
       "      <th></th>\n",
       "      <th>Strike</th>\n",
       "      <th>Type</th>\n",
       "      <th>Symbol</th>\n",
       "      <th>...</th>\n",
       "      <th>Quote_Time</th>\n",
       "      <th>Last_Trade_Date</th>\n",
       "      <th>JSON</th>\n",
       "    </tr>\n",
       "    <tr>\n",
       "      <th>Expiry</th>\n",
       "      <th></th>\n",
       "      <th></th>\n",
       "      <th></th>\n",
       "      <th></th>\n",
       "      <th></th>\n",
       "      <th></th>\n",
       "      <th></th>\n",
       "    </tr>\n",
       "  </thead>\n",
       "  <tbody>\n",
       "    <tr>\n",
       "      <th>2021-07-02</th>\n",
       "      <td>111.0</td>\n",
       "      <td>put</td>\n",
       "      <td>AAPL210702P00111000</td>\n",
       "      <td>...</td>\n",
       "      <td>2021-07-01 23:59:59</td>\n",
       "      <td>2021-06-29 19:05:57</td>\n",
       "      <td>{'contractSymbol': 'AAPL210702P00111000', 'str...</td>\n",
       "    </tr>\n",
       "    <tr>\n",
       "      <th>2021-07-02</th>\n",
       "      <td>65.0</td>\n",
       "      <td>put</td>\n",
       "      <td>AAPL210702P00065000</td>\n",
       "      <td>...</td>\n",
       "      <td>2021-07-01 23:59:59</td>\n",
       "      <td>2021-06-29 17:02:51</td>\n",
       "      <td>{'contractSymbol': 'AAPL210702P00065000', 'str...</td>\n",
       "    </tr>\n",
       "    <tr>\n",
       "      <th>2021-07-02</th>\n",
       "      <td>140.0</td>\n",
       "      <td>call</td>\n",
       "      <td>AAPL210702C00140000</td>\n",
       "      <td>...</td>\n",
       "      <td>2021-07-01 23:59:59</td>\n",
       "      <td>2021-07-01 19:59:54</td>\n",
       "      <td>{'contractSymbol': 'AAPL210702C00140000', 'str...</td>\n",
       "    </tr>\n",
       "    <tr>\n",
       "      <th>2021-07-02</th>\n",
       "      <td>140.0</td>\n",
       "      <td>put</td>\n",
       "      <td>AAPL210702P00140000</td>\n",
       "      <td>...</td>\n",
       "      <td>2021-07-01 23:59:59</td>\n",
       "      <td>2021-07-01 19:40:07</td>\n",
       "      <td>{'contractSymbol': 'AAPL210702P00140000', 'str...</td>\n",
       "    </tr>\n",
       "    <tr>\n",
       "      <th>2021-07-02</th>\n",
       "      <td>110.0</td>\n",
       "      <td>put</td>\n",
       "      <td>AAPL210702P00110000</td>\n",
       "      <td>...</td>\n",
       "      <td>2021-07-01 23:59:59</td>\n",
       "      <td>2021-07-01 18:36:59</td>\n",
       "      <td>{'contractSymbol': 'AAPL210702P00110000', 'str...</td>\n",
       "    </tr>\n",
       "    <tr>\n",
       "      <th>...</th>\n",
       "      <td>...</td>\n",
       "      <td>...</td>\n",
       "      <td>...</td>\n",
       "      <td>...</td>\n",
       "      <td>...</td>\n",
       "      <td>...</td>\n",
       "      <td>...</td>\n",
       "    </tr>\n",
       "    <tr>\n",
       "      <th>2023-06-16</th>\n",
       "      <td>190.0</td>\n",
       "      <td>call</td>\n",
       "      <td>AAPL230616C00190000</td>\n",
       "      <td>...</td>\n",
       "      <td>2021-07-01 23:59:59</td>\n",
       "      <td>2021-07-01 13:30:01</td>\n",
       "      <td>{'contractSymbol': 'AAPL230616C00190000', 'str...</td>\n",
       "    </tr>\n",
       "    <tr>\n",
       "      <th>2023-06-16</th>\n",
       "      <td>220.0</td>\n",
       "      <td>call</td>\n",
       "      <td>AAPL230616C00220000</td>\n",
       "      <td>...</td>\n",
       "      <td>2021-07-01 23:59:59</td>\n",
       "      <td>2021-07-01 18:57:07</td>\n",
       "      <td>{'contractSymbol': 'AAPL230616C00220000', 'str...</td>\n",
       "    </tr>\n",
       "    <tr>\n",
       "      <th>2023-06-16</th>\n",
       "      <td>220.0</td>\n",
       "      <td>put</td>\n",
       "      <td>AAPL230616P00220000</td>\n",
       "      <td>...</td>\n",
       "      <td>2021-07-01 23:59:59</td>\n",
       "      <td>2021-06-18 14:15:16</td>\n",
       "      <td>{'contractSymbol': 'AAPL230616P00220000', 'str...</td>\n",
       "    </tr>\n",
       "    <tr>\n",
       "      <th>2023-06-16</th>\n",
       "      <td>130.0</td>\n",
       "      <td>put</td>\n",
       "      <td>AAPL230616P00130000</td>\n",
       "      <td>...</td>\n",
       "      <td>2021-07-01 23:59:59</td>\n",
       "      <td>2021-07-01 16:32:09</td>\n",
       "      <td>{'contractSymbol': 'AAPL230616P00130000', 'str...</td>\n",
       "    </tr>\n",
       "    <tr>\n",
       "      <th>2023-06-16</th>\n",
       "      <td>125.0</td>\n",
       "      <td>put</td>\n",
       "      <td>AAPL230616P00125000</td>\n",
       "      <td>...</td>\n",
       "      <td>2021-07-01 23:59:59</td>\n",
       "      <td>2021-07-01 15:06:28</td>\n",
       "      <td>{'contractSymbol': 'AAPL230616P00125000', 'str...</td>\n",
       "    </tr>\n",
       "  </tbody>\n",
       "</table>\n",
       "<p>2047 rows × 18 columns</p>\n",
       "</div>"
      ],
      "text/plain": [
       "            Strike  Type               Symbol  ...          Quote_Time  \\\n",
       "Expiry                                         ...                       \n",
       "2021-07-02   111.0   put  AAPL210702P00111000  ... 2021-07-01 23:59:59   \n",
       "2021-07-02    65.0   put  AAPL210702P00065000  ... 2021-07-01 23:59:59   \n",
       "2021-07-02   140.0  call  AAPL210702C00140000  ... 2021-07-01 23:59:59   \n",
       "2021-07-02   140.0   put  AAPL210702P00140000  ... 2021-07-01 23:59:59   \n",
       "2021-07-02   110.0   put  AAPL210702P00110000  ... 2021-07-01 23:59:59   \n",
       "...            ...   ...                  ...  ...                 ...   \n",
       "2023-06-16   190.0  call  AAPL230616C00190000  ... 2021-07-01 23:59:59   \n",
       "2023-06-16   220.0  call  AAPL230616C00220000  ... 2021-07-01 23:59:59   \n",
       "2023-06-16   220.0   put  AAPL230616P00220000  ... 2021-07-01 23:59:59   \n",
       "2023-06-16   130.0   put  AAPL230616P00130000  ... 2021-07-01 23:59:59   \n",
       "2023-06-16   125.0   put  AAPL230616P00125000  ... 2021-07-01 23:59:59   \n",
       "\n",
       "               Last_Trade_Date  \\\n",
       "Expiry                           \n",
       "2021-07-02 2021-06-29 19:05:57   \n",
       "2021-07-02 2021-06-29 17:02:51   \n",
       "2021-07-02 2021-07-01 19:59:54   \n",
       "2021-07-02 2021-07-01 19:40:07   \n",
       "2021-07-02 2021-07-01 18:36:59   \n",
       "...                        ...   \n",
       "2023-06-16 2021-07-01 13:30:01   \n",
       "2023-06-16 2021-07-01 18:57:07   \n",
       "2023-06-16 2021-06-18 14:15:16   \n",
       "2023-06-16 2021-07-01 16:32:09   \n",
       "2023-06-16 2021-07-01 15:06:28   \n",
       "\n",
       "                                                         JSON  \n",
       "Expiry                                                         \n",
       "2021-07-02  {'contractSymbol': 'AAPL210702P00111000', 'str...  \n",
       "2021-07-02  {'contractSymbol': 'AAPL210702P00065000', 'str...  \n",
       "2021-07-02  {'contractSymbol': 'AAPL210702C00140000', 'str...  \n",
       "2021-07-02  {'contractSymbol': 'AAPL210702P00140000', 'str...  \n",
       "2021-07-02  {'contractSymbol': 'AAPL210702P00110000', 'str...  \n",
       "...                                                       ...  \n",
       "2023-06-16  {'contractSymbol': 'AAPL230616C00190000', 'str...  \n",
       "2023-06-16  {'contractSymbol': 'AAPL230616C00220000', 'str...  \n",
       "2023-06-16  {'contractSymbol': 'AAPL230616P00220000', 'str...  \n",
       "2023-06-16  {'contractSymbol': 'AAPL230616P00130000', 'str...  \n",
       "2023-06-16  {'contractSymbol': 'AAPL230616P00125000', 'str...  \n",
       "\n",
       "[2047 rows x 18 columns]"
      ]
     },
     "execution_count": 27,
     "metadata": {},
     "output_type": "execute_result"
    }
   ],
   "source": [
    "aapl = web.YahooOptions('AAPL')\n",
    "aapl_opt = aapl.get_all_data().reset_index()\n",
    "aapl_opt.set_index('Expiry').sort_index()"
   ]
  },
  {
   "cell_type": "code",
   "execution_count": 30,
   "metadata": {},
   "outputs": [
    {
     "data": {
      "text/plain": [
       "array(['2021-07-16T00:00:00.000000000', '2022-01-21T00:00:00.000000000',\n",
       "       '2021-09-17T00:00:00.000000000', '2022-06-17T00:00:00.000000000',\n",
       "       '2021-08-20T00:00:00.000000000', '2023-01-20T00:00:00.000000000',\n",
       "       '2021-10-15T00:00:00.000000000', '2022-09-16T00:00:00.000000000',\n",
       "       '2023-03-17T00:00:00.000000000', '2023-06-16T00:00:00.000000000',\n",
       "       '2021-07-02T00:00:00.000000000', '2021-07-30T00:00:00.000000000',\n",
       "       '2021-11-19T00:00:00.000000000', '2021-12-17T00:00:00.000000000',\n",
       "       '2021-07-09T00:00:00.000000000', '2021-07-23T00:00:00.000000000',\n",
       "       '2021-08-06T00:00:00.000000000'], dtype='datetime64[ns]')"
      ]
     },
     "execution_count": 30,
     "metadata": {},
     "output_type": "execute_result"
    }
   ],
   "source": [
    "aapl_opt['Expiry'].unique()"
   ]
  },
  {
   "cell_type": "code",
   "execution_count": 34,
   "metadata": {},
   "outputs": [
    {
     "data": {
      "text/html": [
       "<div>\n",
       "<style scoped>\n",
       "    .dataframe tbody tr th:only-of-type {\n",
       "        vertical-align: middle;\n",
       "    }\n",
       "\n",
       "    .dataframe tbody tr th {\n",
       "        vertical-align: top;\n",
       "    }\n",
       "\n",
       "    .dataframe thead th {\n",
       "        text-align: right;\n",
       "    }\n",
       "</style>\n",
       "<table border=\"1\" class=\"dataframe\">\n",
       "  <thead>\n",
       "    <tr style=\"text-align: right;\">\n",
       "      <th></th>\n",
       "      <th>Strike</th>\n",
       "      <th>Expiry</th>\n",
       "      <th>Type</th>\n",
       "      <th>...</th>\n",
       "      <th>Quote_Time</th>\n",
       "      <th>Last_Trade_Date</th>\n",
       "      <th>JSON</th>\n",
       "    </tr>\n",
       "  </thead>\n",
       "  <tbody>\n",
       "    <tr>\n",
       "      <th>1156</th>\n",
       "      <td>140.0</td>\n",
       "      <td>2021-12-17</td>\n",
       "      <td>call</td>\n",
       "      <td>...</td>\n",
       "      <td>2021-07-01 23:59:59</td>\n",
       "      <td>2021-07-01 19:59:02</td>\n",
       "      <td>{'contractSymbol': 'AAPL211217C00140000', 'str...</td>\n",
       "    </tr>\n",
       "  </tbody>\n",
       "</table>\n",
       "<p>1 rows × 19 columns</p>\n",
       "</div>"
      ],
      "text/plain": [
       "      Strike     Expiry  Type  ...          Quote_Time     Last_Trade_Date  \\\n",
       "1156   140.0 2021-12-17  call  ... 2021-07-01 23:59:59 2021-07-01 19:59:02   \n",
       "\n",
       "                                                   JSON  \n",
       "1156  {'contractSymbol': 'AAPL211217C00140000', 'str...  \n",
       "\n",
       "[1 rows x 19 columns]"
      ]
     },
     "execution_count": 34,
     "metadata": {},
     "output_type": "execute_result"
    }
   ],
   "source": [
    "K = 140 # strike price\n",
    "indice_opt = aapl_opt.loc[(aapl_opt.Type=='call') & (aapl_opt.Strike==K) & (aapl_opt.Expiry=='2021-12-17')]\n",
    "indice_opt"
   ]
  },
  {
   "cell_type": "code",
   "execution_count": 35,
   "metadata": {
    "scrolled": false
   },
   "outputs": [
    {
     "data": {
      "text/plain": [
       "{'contractSymbol': 'AAPL211217C00140000',\n",
       " 'strike': 140.0,\n",
       " 'currency': 'USD',\n",
       " 'lastPrice': 8.21,\n",
       " 'change': 0.05000019,\n",
       " 'percentChange': 0.61274743,\n",
       " 'volume': 3103,\n",
       " 'openInterest': 6171,\n",
       " 'bid': 8.2,\n",
       " 'ask': 8.3,\n",
       " 'contractSize': 'REGULAR',\n",
       " 'expiration': 1639699200,\n",
       " 'lastTradeDate': 1625169542,\n",
       " 'impliedVolatility': 0.255439574584961,\n",
       " 'inTheMoney': False}"
      ]
     },
     "execution_count": 35,
     "metadata": {},
     "output_type": "execute_result"
    }
   ],
   "source": [
    "i_opt= indice_opt.index\n",
    "opcion_valuar = aapl_opt.loc[i_opt[0]]\n",
    "opcion_valuar['JSON']"
   ]
  },
  {
   "cell_type": "code",
   "execution_count": 33,
   "metadata": {},
   "outputs": [
    {
     "name": "stdout",
     "output_type": "stream",
     "text": [
      "Precio del activo subyacente actual =  137.11\n"
     ]
    }
   ],
   "source": [
    "print('Precio del activo subyacente actual = ',opcion_valuar.Underlying_Price)"
   ]
  },
  {
   "cell_type": "markdown",
   "metadata": {},
   "source": [
    "# Simulación de precios usando rendimiento simple y logarítmico "
   ]
  },
  {
   "cell_type": "markdown",
   "metadata": {},
   "source": [
    "* Comenzaremos por suponer que los rendimientos son un p.e. estacionario que distribuyen $\\mathcal{N}(\\mu,\\sigma)$."
   ]
  },
  {
   "cell_type": "markdown",
   "metadata": {},
   "source": [
    "## Rendimiento Simple"
   ]
  },
  {
   "cell_type": "code",
   "execution_count": 36,
   "metadata": {
    "scrolled": false
   },
   "outputs": [
    {
     "data": {
      "text/html": [
       "<div>\n",
       "<style scoped>\n",
       "    .dataframe tbody tr th:only-of-type {\n",
       "        vertical-align: middle;\n",
       "    }\n",
       "\n",
       "    .dataframe tbody tr th {\n",
       "        vertical-align: top;\n",
       "    }\n",
       "\n",
       "    .dataframe thead th {\n",
       "        text-align: right;\n",
       "    }\n",
       "</style>\n",
       "<table border=\"1\" class=\"dataframe\">\n",
       "  <thead>\n",
       "    <tr style=\"text-align: right;\">\n",
       "      <th></th>\n",
       "      <th>AAPL</th>\n",
       "    </tr>\n",
       "    <tr>\n",
       "      <th>date</th>\n",
       "      <th></th>\n",
       "    </tr>\n",
       "  </thead>\n",
       "  <tbody>\n",
       "    <tr>\n",
       "      <th>2018-03-26</th>\n",
       "      <td>0.026</td>\n",
       "    </tr>\n",
       "    <tr>\n",
       "      <th>2018-03-23</th>\n",
       "      <td>-0.045</td>\n",
       "    </tr>\n",
       "    <tr>\n",
       "      <th>2018-03-22</th>\n",
       "      <td>0.024</td>\n",
       "    </tr>\n",
       "    <tr>\n",
       "      <th>2018-03-21</th>\n",
       "      <td>0.014</td>\n",
       "    </tr>\n",
       "    <tr>\n",
       "      <th>2018-03-20</th>\n",
       "      <td>0.023</td>\n",
       "    </tr>\n",
       "    <tr>\n",
       "      <th>...</th>\n",
       "      <td>...</td>\n",
       "    </tr>\n",
       "    <tr>\n",
       "      <th>2017-01-09</th>\n",
       "      <td>-0.001</td>\n",
       "    </tr>\n",
       "    <tr>\n",
       "      <th>2017-01-06</th>\n",
       "      <td>-0.009</td>\n",
       "    </tr>\n",
       "    <tr>\n",
       "      <th>2017-01-05</th>\n",
       "      <td>-0.011</td>\n",
       "    </tr>\n",
       "    <tr>\n",
       "      <th>2017-01-04</th>\n",
       "      <td>-0.005</td>\n",
       "    </tr>\n",
       "    <tr>\n",
       "      <th>2017-01-03</th>\n",
       "      <td>0.001</td>\n",
       "    </tr>\n",
       "  </tbody>\n",
       "</table>\n",
       "<p>307 rows × 1 columns</p>\n",
       "</div>"
      ],
      "text/plain": [
       "             AAPL\n",
       "date             \n",
       "2018-03-26  0.026\n",
       "2018-03-23 -0.045\n",
       "2018-03-22  0.024\n",
       "2018-03-21  0.014\n",
       "2018-03-20  0.023\n",
       "...           ...\n",
       "2017-01-09 -0.001\n",
       "2017-01-06 -0.009\n",
       "2017-01-05 -0.011\n",
       "2017-01-04 -0.005\n",
       "2017-01-03  0.001\n",
       "\n",
       "[307 rows x 1 columns]"
      ]
     },
     "execution_count": 36,
     "metadata": {},
     "output_type": "execute_result"
    }
   ],
   "source": [
    "# Obtenemos el rendimiento simple\n",
    "Ri = closes_aapl.pct_change(1).iloc[1:]\n",
    "# Obtenemos su media y desviación estándar de los rendimientos\n",
    "mu_R = Ri.mean()[0]\n",
    "sigma_R = Ri.std()[0]\n",
    "Ri"
   ]
  },
  {
   "cell_type": "code",
   "execution_count": 39,
   "metadata": {},
   "outputs": [
    {
     "data": {
      "text/plain": [
       "DatetimeIndex(['2021-07-01', '2021-07-02', '2021-07-05', '2021-07-06',\n",
       "               '2021-07-07', '2021-07-08', '2021-07-09', '2021-07-12',\n",
       "               '2021-07-13', '2021-07-14',\n",
       "               ...\n",
       "               '2021-12-06', '2021-12-07', '2021-12-08', '2021-12-09',\n",
       "               '2021-12-10', '2021-12-13', '2021-12-14', '2021-12-15',\n",
       "               '2021-12-16', '2021-12-17'],\n",
       "              dtype='datetime64[ns]', length=122, freq='B')"
      ]
     },
     "execution_count": 39,
     "metadata": {},
     "output_type": "execute_result"
    }
   ],
   "source": [
    "from datetime import date\n",
    "\n",
    "today = pd.Timestamp(date.today())\n",
    "expiry = opcion_valuar.Expiry\n",
    "\n",
    "nscen = 10000\n",
    "dates = pd.date_range(start=today, end=expiry, freq='B')\n",
    "ndays = len(dates)\n",
    "dates"
   ]
  },
  {
   "cell_type": "markdown",
   "metadata": {},
   "source": [
    "### Mostrar como simular precios usando los rendimientos"
   ]
  },
  {
   "cell_type": "code",
   "execution_count": 41,
   "metadata": {},
   "outputs": [
    {
     "data": {
      "text/html": [
       "<div>\n",
       "<style scoped>\n",
       "    .dataframe tbody tr th:only-of-type {\n",
       "        vertical-align: middle;\n",
       "    }\n",
       "\n",
       "    .dataframe tbody tr th {\n",
       "        vertical-align: top;\n",
       "    }\n",
       "\n",
       "    .dataframe thead th {\n",
       "        text-align: right;\n",
       "    }\n",
       "</style>\n",
       "<table border=\"1\" class=\"dataframe\">\n",
       "  <thead>\n",
       "    <tr style=\"text-align: right;\">\n",
       "      <th></th>\n",
       "      <th>0</th>\n",
       "      <th>1</th>\n",
       "      <th>2</th>\n",
       "      <th>...</th>\n",
       "      <th>9997</th>\n",
       "      <th>9998</th>\n",
       "      <th>9999</th>\n",
       "    </tr>\n",
       "  </thead>\n",
       "  <tbody>\n",
       "    <tr>\n",
       "      <th>2021-07-01</th>\n",
       "      <td>1.217e-02</td>\n",
       "      <td>-2.254e-02</td>\n",
       "      <td>-8.721e-04</td>\n",
       "      <td>...</td>\n",
       "      <td>-1.377e-02</td>\n",
       "      <td>-2.389e-03</td>\n",
       "      <td>-9.843e-03</td>\n",
       "    </tr>\n",
       "    <tr>\n",
       "      <th>2021-07-02</th>\n",
       "      <td>1.652e-04</td>\n",
       "      <td>2.193e-04</td>\n",
       "      <td>-2.295e-06</td>\n",
       "      <td>...</td>\n",
       "      <td>1.345e-04</td>\n",
       "      <td>5.179e-06</td>\n",
       "      <td>-5.955e-05</td>\n",
       "    </tr>\n",
       "    <tr>\n",
       "      <th>2021-07-05</th>\n",
       "      <td>-2.782e-06</td>\n",
       "      <td>2.877e-06</td>\n",
       "      <td>3.919e-08</td>\n",
       "      <td>...</td>\n",
       "      <td>-8.302e-07</td>\n",
       "      <td>-2.523e-08</td>\n",
       "      <td>7.129e-07</td>\n",
       "    </tr>\n",
       "    <tr>\n",
       "      <th>2021-07-06</th>\n",
       "      <td>-1.038e-08</td>\n",
       "      <td>-8.185e-09</td>\n",
       "      <td>-1.079e-10</td>\n",
       "      <td>...</td>\n",
       "      <td>-2.353e-08</td>\n",
       "      <td>-3.687e-11</td>\n",
       "      <td>-5.534e-09</td>\n",
       "    </tr>\n",
       "    <tr>\n",
       "      <th>2021-07-07</th>\n",
       "      <td>1.545e-10</td>\n",
       "      <td>5.664e-11</td>\n",
       "      <td>8.712e-13</td>\n",
       "      <td>...</td>\n",
       "      <td>-6.618e-10</td>\n",
       "      <td>1.128e-13</td>\n",
       "      <td>-8.173e-11</td>\n",
       "    </tr>\n",
       "    <tr>\n",
       "      <th>...</th>\n",
       "      <td>...</td>\n",
       "      <td>...</td>\n",
       "      <td>...</td>\n",
       "      <td>...</td>\n",
       "      <td>...</td>\n",
       "      <td>...</td>\n",
       "      <td>...</td>\n",
       "    </tr>\n",
       "    <tr>\n",
       "      <th>2021-12-13</th>\n",
       "      <td>1.117e-261</td>\n",
       "      <td>1.627e-253</td>\n",
       "      <td>5.651e-258</td>\n",
       "      <td>...</td>\n",
       "      <td>-2.282e-253</td>\n",
       "      <td>7.398e-269</td>\n",
       "      <td>1.025e-259</td>\n",
       "    </tr>\n",
       "    <tr>\n",
       "      <th>2021-12-14</th>\n",
       "      <td>9.446e-264</td>\n",
       "      <td>-1.100e-256</td>\n",
       "      <td>-2.113e-259</td>\n",
       "      <td>...</td>\n",
       "      <td>3.306e-255</td>\n",
       "      <td>-5.987e-271</td>\n",
       "      <td>-9.251e-262</td>\n",
       "    </tr>\n",
       "    <tr>\n",
       "      <th>2021-12-15</th>\n",
       "      <td>3.049e-266</td>\n",
       "      <td>-8.913e-259</td>\n",
       "      <td>3.200e-261</td>\n",
       "      <td>...</td>\n",
       "      <td>-4.485e-257</td>\n",
       "      <td>-7.772e-273</td>\n",
       "      <td>-1.154e-263</td>\n",
       "    </tr>\n",
       "    <tr>\n",
       "      <th>2021-12-16</th>\n",
       "      <td>-2.992e-268</td>\n",
       "      <td>-2.093e-261</td>\n",
       "      <td>-9.180e-263</td>\n",
       "      <td>...</td>\n",
       "      <td>8.909e-260</td>\n",
       "      <td>8.339e-275</td>\n",
       "      <td>3.302e-265</td>\n",
       "    </tr>\n",
       "    <tr>\n",
       "      <th>2021-12-17</th>\n",
       "      <td>2.430e-270</td>\n",
       "      <td>1.333e-263</td>\n",
       "      <td>2.442e-264</td>\n",
       "      <td>...</td>\n",
       "      <td>4.011e-262</td>\n",
       "      <td>1.071e-276</td>\n",
       "      <td>-8.686e-267</td>\n",
       "    </tr>\n",
       "  </tbody>\n",
       "</table>\n",
       "<p>122 rows × 10000 columns</p>\n",
       "</div>"
      ],
      "text/plain": [
       "                  0           1           2     ...        9997        9998  \\\n",
       "2021-07-01   1.217e-02  -2.254e-02  -8.721e-04  ...  -1.377e-02  -2.389e-03   \n",
       "2021-07-02   1.652e-04   2.193e-04  -2.295e-06  ...   1.345e-04   5.179e-06   \n",
       "2021-07-05  -2.782e-06   2.877e-06   3.919e-08  ...  -8.302e-07  -2.523e-08   \n",
       "2021-07-06  -1.038e-08  -8.185e-09  -1.079e-10  ...  -2.353e-08  -3.687e-11   \n",
       "2021-07-07   1.545e-10   5.664e-11   8.712e-13  ...  -6.618e-10   1.128e-13   \n",
       "...                ...         ...         ...  ...         ...         ...   \n",
       "2021-12-13  1.117e-261  1.627e-253  5.651e-258  ... -2.282e-253  7.398e-269   \n",
       "2021-12-14  9.446e-264 -1.100e-256 -2.113e-259  ...  3.306e-255 -5.987e-271   \n",
       "2021-12-15  3.049e-266 -8.913e-259  3.200e-261  ... -4.485e-257 -7.772e-273   \n",
       "2021-12-16 -2.992e-268 -2.093e-261 -9.180e-263  ...  8.909e-260  8.339e-275   \n",
       "2021-12-17  2.430e-270  1.333e-263  2.442e-264  ...  4.011e-262  1.071e-276   \n",
       "\n",
       "                  9999  \n",
       "2021-07-01  -9.843e-03  \n",
       "2021-07-02  -5.955e-05  \n",
       "2021-07-05   7.129e-07  \n",
       "2021-07-06  -5.534e-09  \n",
       "2021-07-07  -8.173e-11  \n",
       "...                ...  \n",
       "2021-12-13  1.025e-259  \n",
       "2021-12-14 -9.251e-262  \n",
       "2021-12-15 -1.154e-263  \n",
       "2021-12-16  3.302e-265  \n",
       "2021-12-17 -8.686e-267  \n",
       "\n",
       "[122 rows x 10000 columns]"
      ]
     },
     "execution_count": 41,
     "metadata": {},
     "output_type": "execute_result"
    }
   ],
   "source": [
    "dt = 1; # Rendimiento diario \n",
    "Z = np.random.randn(ndays,nscen)  # Z ~ N(0,1)\n",
    "# Simulación normal de los rendimientos\n",
    "Ri_dt = pd.DataFrame(mu_R*dt+Z*sigma_R*np.sqrt(dt),index=dates)\n",
    "Ri_dt.cumprod()"
   ]
  },
  {
   "cell_type": "code",
   "execution_count": 50,
   "metadata": {},
   "outputs": [
    {
     "data": {
      "text/html": [
       "<div>\n",
       "<style scoped>\n",
       "    .dataframe tbody tr th:only-of-type {\n",
       "        vertical-align: middle;\n",
       "    }\n",
       "\n",
       "    .dataframe tbody tr th {\n",
       "        vertical-align: top;\n",
       "    }\n",
       "\n",
       "    .dataframe thead th {\n",
       "        text-align: right;\n",
       "    }\n",
       "</style>\n",
       "<table border=\"1\" class=\"dataframe\">\n",
       "  <thead>\n",
       "    <tr style=\"text-align: right;\">\n",
       "      <th></th>\n",
       "      <th>AAPL</th>\n",
       "    </tr>\n",
       "    <tr>\n",
       "      <th>date</th>\n",
       "      <th></th>\n",
       "    </tr>\n",
       "  </thead>\n",
       "  <tbody>\n",
       "    <tr>\n",
       "      <th>2018-03-27</th>\n",
       "      <td>168.340</td>\n",
       "    </tr>\n",
       "    <tr>\n",
       "      <th>2018-03-26</th>\n",
       "      <td>172.770</td>\n",
       "    </tr>\n",
       "    <tr>\n",
       "      <th>2018-03-23</th>\n",
       "      <td>164.940</td>\n",
       "    </tr>\n",
       "    <tr>\n",
       "      <th>2018-03-22</th>\n",
       "      <td>168.845</td>\n",
       "    </tr>\n",
       "    <tr>\n",
       "      <th>2018-03-21</th>\n",
       "      <td>171.270</td>\n",
       "    </tr>\n",
       "    <tr>\n",
       "      <th>...</th>\n",
       "      <td>...</td>\n",
       "    </tr>\n",
       "    <tr>\n",
       "      <th>2017-01-09</th>\n",
       "      <td>117.520</td>\n",
       "    </tr>\n",
       "    <tr>\n",
       "      <th>2017-01-06</th>\n",
       "      <td>116.454</td>\n",
       "    </tr>\n",
       "    <tr>\n",
       "      <th>2017-01-05</th>\n",
       "      <td>115.170</td>\n",
       "    </tr>\n",
       "    <tr>\n",
       "      <th>2017-01-04</th>\n",
       "      <td>114.587</td>\n",
       "    </tr>\n",
       "    <tr>\n",
       "      <th>2017-01-03</th>\n",
       "      <td>114.715</td>\n",
       "    </tr>\n",
       "  </tbody>\n",
       "</table>\n",
       "<p>308 rows × 1 columns</p>\n",
       "</div>"
      ],
      "text/plain": [
       "               AAPL\n",
       "date               \n",
       "2018-03-27  168.340\n",
       "2018-03-26  172.770\n",
       "2018-03-23  164.940\n",
       "2018-03-22  168.845\n",
       "2018-03-21  171.270\n",
       "...             ...\n",
       "2017-01-09  117.520\n",
       "2017-01-06  116.454\n",
       "2017-01-05  115.170\n",
       "2017-01-04  114.587\n",
       "2017-01-03  114.715\n",
       "\n",
       "[308 rows x 1 columns]"
      ]
     },
     "execution_count": 50,
     "metadata": {},
     "output_type": "execute_result"
    },
    {
     "data": {
      "image/png": "[encoded data removed]",
      "text/plain": [
       "<Figure size 576x432 with 1 Axes>"
      ]
     },
     "metadata": {
      "needs_background": "light"
     },
     "output_type": "display_data"
    }
   ],
   "source": [
    "# Simulación del precio\n",
    "S_0 = closes_aapl.iloc[-1,0]\n",
    "S_T = S_0*(1+Ri_dt).cumprod()\n",
    "S_T.iloc[0,:] = S_0\n",
    "S_T\n",
    "# Se muestran los precios simulados con los precios descargados\n",
    "pd.concat([closes_aapl,S_T.iloc[:, 0:10]]).plot(figsize=(8,6));\n",
    "# plt.title('Simulación de precios usando rendimiento simple');\n",
    "closes_aapl"
   ]
  },
  {
   "cell_type": "markdown",
   "metadata": {},
   "source": [
    "## Rendimiento Logarítmico"
   ]
  },
  {
   "cell_type": "code",
   "execution_count": null,
   "metadata": {},
   "outputs": [],
   "source": [
    "ri = calc_daily_ret(closes_aapl)\n",
    "# Usando la media y desviación estándar de los rendimientos logarítmicos\n",
    "mu_r = ri.mean()[0]\n",
    "sigma_r = ri.std()[0]\n",
    "\n",
    "# # Usando la equivalencia teórica\n",
    "# mu_r2 = mu_R - (sigma_R**2)/2\n",
    "\n",
    "sim_ret_ri = pd.DataFrame(mu_r*dt+Z*sigma_r*np.sqrt(dt), index=dates)\n",
    "\n",
    "# Simulación del precio\n",
    "S_0 = closes_aapl.iloc[-1,0]\n",
    "S_T2 = S_0*np.exp(sim_ret_ri.cumsum())\n",
    "\n",
    "# Se muestran los precios simulados con los precios descargados\n",
    "# pd.concat([closes_aapl,S_T2]).plot(figsize=(8,6));\n",
    "# plt.title('Simulación de precios usando rendimiento logarítmico');\n",
    "\n",
    "# from sklearn.metrics import mean_absolute_error\n",
    "e1 = np.abs(S_T-S_T2).mean().mean()\n",
    "e1"
   ]
  },
  {
   "cell_type": "code",
   "execution_count": null,
   "metadata": {},
   "outputs": [],
   "source": [
    "print('Las std usando rendimientos logarítmicos y simples son similares')\n",
    "sigma_R,sigma_r"
   ]
  },
  {
   "cell_type": "markdown",
   "metadata": {},
   "source": [
    "Con los precios simulados debemos de encontrar el valor de la opción según la función de pago correspondiente. Para este caso es:\n",
    "$$\n",
    "max(S_T - K,0)\n",
    "$$"
   ]
  },
  {
   "cell_type": "code",
   "execution_count": null,
   "metadata": {},
   "outputs": [],
   "source": [
    "opcion_valuar['JSON']"
   ]
  },
  {
   "cell_type": "code",
   "execution_count": null,
   "metadata": {},
   "outputs": [],
   "source": [
    "strike = pd.DataFrame(opcion_valuar['JSON']['strike']*np.ones([ndays,nscen]), index=dates)\n",
    "call = pd.DataFrame({'Prima':np.exp(-mu_r*ndays) \\\n",
    "              *np.fmax(S_T2-strike,np.zeros([ndays,nscen])).mean(axis=1)}, index=dates)\n",
    "call.plot();\n",
    "call.iloc[-1]"
   ]
  },
  {
   "cell_type": "markdown",
   "metadata": {},
   "source": [
    "## 2. Valuación usando simulación: modelo normal para los rendimientos"
   ]
  },
  {
   "cell_type": "markdown",
   "metadata": {},
   "source": [
    "- Hallar media y desviación estándar muestral de los rendimientos logarítmicos"
   ]
  },
  {
   "cell_type": "code",
   "execution_count": null,
   "metadata": {
    "scrolled": true
   },
   "outputs": [],
   "source": [
    "mu = ret_aapl.mean()[0]\n",
    "sigma = ret_aapl.std()[0]\n",
    "mu, sigma"
   ]
  },
  {
   "cell_type": "markdown",
   "metadata": {},
   "source": [
    "No se toma la media sino la tasa libre de riesgo\n",
    "> Referencia: https://www.treasury.gov/resource-center/data-chart-center/interest-rates/Pages/TextView.aspx?data=yield"
   ]
  },
  {
   "cell_type": "code",
   "execution_count": null,
   "metadata": {},
   "outputs": [],
   "source": [
    "# Tasa de bonos de 1 yr de fecha 30/04/20 -> 0.16%\n",
    "r = 0.0016/360 # Tasa diaria"
   ]
  },
  {
   "cell_type": "markdown",
   "metadata": {},
   "source": [
    "- Simularemos el tiempo de contrato desde `HOY` hasta la fecha de `Expiry`, 10 escenarios:\n",
    "    \n",
    "    - Generar fechas"
   ]
  },
  {
   "cell_type": "code",
   "execution_count": null,
   "metadata": {},
   "outputs": [],
   "source": [
    "from datetime import date\n",
    "\n",
    "today = pd.Timestamp(date.today())\n",
    "expiry = opcion_valuar.Expiry\n",
    "\n",
    "ndays = (expiry - today).days\n",
    "nscen = 10\n",
    "dates = pd.date_range(start='2019-11-14', periods = ndays)\n",
    "dates"
   ]
  },
  {
   "cell_type": "markdown",
   "metadata": {},
   "source": [
    "- Generamos 10 escenarios de rendimientos simulados y guardamos en un dataframe"
   ]
  },
  {
   "cell_type": "code",
   "execution_count": null,
   "metadata": {
    "scrolled": false
   },
   "outputs": [],
   "source": [
    "sim_ret = pd.DataFrame(sigma*np.random.randn(ndays,nscen)+r, index=dates)\n",
    "sim_ret.cumsum()\n",
    "# Las columnas son los escenarios y las filas son las días de contrato"
   ]
  },
  {
   "cell_type": "markdown",
   "metadata": {},
   "source": [
    "- Con los rendimientos simulados, calcular los escenarios de precios respectivos:"
   ]
  },
  {
   "cell_type": "code",
   "execution_count": null,
   "metadata": {},
   "outputs": [],
   "source": [
    "S0 = closes_aapl.iloc[-1,0]  # Condición inicial del precio a simular\n",
    "sim_closes = S0*np.exp(sim_ret.cumsum())\n",
    "sim_closes"
   ]
  },
  {
   "cell_type": "markdown",
   "metadata": {},
   "source": [
    "- Graficar:"
   ]
  },
  {
   "cell_type": "code",
   "execution_count": null,
   "metadata": {},
   "outputs": [],
   "source": [
    "# sim_closes.plot(figsize=(8,6));"
   ]
  },
  {
   "cell_type": "code",
   "execution_count": null,
   "metadata": {
    "scrolled": false
   },
   "outputs": [],
   "source": [
    "# Se muestran los precios simulados con los precios descargados\n",
    "pd.concat([closes_aapl,sim_closes]).plot(figsize=(8,6));"
   ]
  },
  {
   "cell_type": "code",
   "execution_count": null,
   "metadata": {
    "scrolled": false
   },
   "outputs": [],
   "source": [
    "opcion_valuar['JSON']"
   ]
  },
  {
   "cell_type": "code",
   "execution_count": null,
   "metadata": {},
   "outputs": [],
   "source": [
    "sigma = 0.27719839019775383/np.sqrt(252)\n",
    "sigma"
   ]
  },
  {
   "cell_type": "code",
   "execution_count": null,
   "metadata": {},
   "outputs": [],
   "source": [
    "from datetime import date\n",
    "Hoy = date.today()\n",
    "K = opcion_valuar['JSON']['strike']  # strike price\n",
    "ndays = (opcion_valuar.Expiry - today).days\n",
    "nscen = 100000\n",
    "dates = pd.date_range(start= Hoy, periods = ndays)\n",
    "S0 = closes_aapl.iloc[-1,0]  # Condición inicial del precio a simular\n",
    "\n",
    "sim_ret = pd.DataFrame(sigma*np.random.randn(ndays,nscen)+r,index=dates)\n",
    "sim_closes = S0*np.exp(sim_ret.cumsum())\n",
    "#strike = pd.DataFrame({'Strike':K*np.ones(ndays)}, index=dates)\n",
    "#simul = pd.concat([closes_aapl.T,strike.T,sim_closes.T]).T\n",
    "#simul.plot(figsize=(8,6),legend=False);"
   ]
  },
  {
   "cell_type": "code",
   "execution_count": null,
   "metadata": {},
   "outputs": [],
   "source": [
    "strike = pd.DataFrame(K*np.ones([ndays,nscen]), index=dates)\n",
    "call = pd.DataFrame({'Prima':np.exp(-r*ndays) \\\n",
    "              *np.fmax(sim_closes-strike,np.zeros([ndays,nscen])).mean(axis=1)}, index=dates)\n",
    "call.plot();\n"
   ]
  },
  {
   "cell_type": "markdown",
   "metadata": {},
   "source": [
    "La valuación de la opción es:"
   ]
  },
  {
   "cell_type": "code",
   "execution_count": null,
   "metadata": {},
   "outputs": [],
   "source": [
    "call.iloc[-1]"
   ]
  },
  {
   "cell_type": "markdown",
   "metadata": {},
   "source": [
    "Intervalo de confianza del 99%"
   ]
  },
  {
   "cell_type": "code",
   "execution_count": null,
   "metadata": {
    "scrolled": true
   },
   "outputs": [],
   "source": [
    "confianza = 0.99\n",
    "sigma_est = sim_closes.iloc[-1].sem()\n",
    "mean_est = call.iloc[-1].Prima\n",
    "i1 = st.t.interval(confianza,nscen-1, loc=mean_est, scale=sigma_est)\n",
    "i2 = st.norm.interval(confianza, loc=mean_est, scale=sigma_est)\n",
    "print(i1)\n",
    "print(i1)\n"
   ]
  },
  {
   "cell_type": "markdown",
   "metadata": {},
   "source": [
    "## Precios simulados usando técnicas de reducción de varianza"
   ]
  },
  {
   "cell_type": "code",
   "execution_count": null,
   "metadata": {},
   "outputs": [],
   "source": [
    "# Usando muestreo estratificado----> #estratros = nscen\n",
    "U = (np.arange(0,nscen)+np.random.rand(ndays,nscen))/nscen\n",
    "Z = st.norm.ppf(U)\n",
    "\n",
    "sim_ret2 = pd.DataFrame(sigma*Z+r,index=dates)\n",
    "sim_closes2 = S0*np.exp(sim_ret.cumsum())\n",
    "\n",
    "# Función de pago\n",
    "strike = pd.DataFrame(K*np.ones([ndays,nscen]), index=dates)\n",
    "call = pd.DataFrame({'Prima':np.exp(-r*ndays) \\\n",
    "              *np.fmax(sim_closes2-strike,np.zeros([ndays,nscen])).T.mean()}, index=dates)\n",
    "call.plot();"
   ]
  },
  {
   "cell_type": "markdown",
   "metadata": {},
   "source": [
    "La valuación de la opción es:"
   ]
  },
  {
   "cell_type": "code",
   "execution_count": null,
   "metadata": {},
   "outputs": [],
   "source": [
    "call.iloc[-1]"
   ]
  },
  {
   "cell_type": "markdown",
   "metadata": {},
   "source": [
    "Intervalo de confianza del 99%"
   ]
  },
  {
   "cell_type": "code",
   "execution_count": null,
   "metadata": {
    "scrolled": true
   },
   "outputs": [],
   "source": [
    "confianza = 0.99\n",
    "sigma_est = sim_closes2.iloc[-1].sem()\n",
    "mean_est = call.iloc[-1].Prima\n",
    "i1 = st.t.interval(confianza,nscen-1, loc=mean_est, scale=sigma_est)\n",
    "i2 = st.norm.interval(confianza, loc=mean_est, scale=sigma_est)\n",
    "print(i1)\n",
    "print(i1)\n"
   ]
  },
  {
   "cell_type": "markdown",
   "metadata": {},
   "source": [
    "### Análisis de la distribución de los rendimientos"
   ]
  },
  {
   "cell_type": "markdown",
   "metadata": {},
   "source": [
    "### Ajustando norm"
   ]
  },
  {
   "cell_type": "code",
   "execution_count": null,
   "metadata": {},
   "outputs": [],
   "source": [
    "ren = calc_daily_ret(closes_aapl) # rendimientos \n",
    "y,x,des = plt.hist(ren['AAPL'],bins=50,density=True,label='Histograma rendimientos')\n",
    "\n",
    "mu_fit,sd_fit = st.norm.fit(ren) # Se ajustan los parámetros de una normal\n",
    "# Valores máximo y mínimo de los rendiemientos a generar\n",
    "ren_max = max(x);ren_min = min(x)\n",
    "# Vector de rendimientos generados\n",
    "ren_gen = np.arange(ren_min,ren_max,0.001)\n",
    "# Generación de la normal ajustado con los parámetros encontrados\n",
    "curve_fit = st.norm.pdf(ren_gen,loc=mu_fit,scale=sd_fit)\n",
    "plt.plot(ren_gen,curve_fit,label='Distribución ajustada')\n",
    "plt.legend()\n",
    "plt.show()\n"
   ]
  },
  {
   "cell_type": "markdown",
   "metadata": {},
   "source": [
    "### Ajustando t"
   ]
  },
  {
   "cell_type": "code",
   "execution_count": null,
   "metadata": {},
   "outputs": [],
   "source": [
    "ren = calc_daily_ret(closes_aapl) # rendimientos \n",
    "y,x,des = plt.hist(ren['AAPL'],bins=50,density=True,label='Histograma rendimientos')\n",
    "\n",
    "dof,mu_fit,sd_fit = st.t.fit(ren) # Se ajustan los parámetros de una normal\n",
    "# Valores máximo y mínimo de los rendiemientos a generar\n",
    "# ren_max = max(x);ren_min = min(x)\n",
    "# Vector de rendimientos generados\n",
    "ren_gen = np.arange(ren_min,ren_max,0.001)\n",
    "# Generación de la normal ajustado con los parámetros encontrados\n",
    "curve_fit = st.t.pdf(ren_gen,df=dof,loc=mu_fit,scale=sd_fit)\n",
    "plt.plot(ren_gen,curve_fit,label='Distribución ajustada')\n",
    "plt.legend()\n",
    "plt.show()"
   ]
  },
  {
   "cell_type": "code",
   "execution_count": null,
   "metadata": {},
   "outputs": [],
   "source": [
    "st.probplot(ren['AAPL'],sparams= dof, dist='t', plot=plt);"
   ]
  },
  {
   "cell_type": "markdown",
   "metadata": {},
   "source": [
    "## 3. Valuación usando simulación: uso del histograma de rendimientos\n",
    "\n",
    "Todo el análisis anterior se mantiene. Solo cambia la forma de generar los números aleatorios para la simulación montecarlo.\n",
    "\n",
    "Ahora, generemos un histograma de los rendimientos diarios para generar valores aleatorios de los rendimientos simulados."
   ]
  },
  {
   "cell_type": "markdown",
   "metadata": {},
   "source": [
    "- Primero, cantidad de días y número de escenarios de simulación"
   ]
  },
  {
   "cell_type": "code",
   "execution_count": null,
   "metadata": {},
   "outputs": [],
   "source": [
    "ndays = 109 \n",
    "nscen = 10"
   ]
  },
  {
   "cell_type": "markdown",
   "metadata": {},
   "source": [
    "- Del histograma anterior, ya conocemos las probabilidades de ocurrencia, lo que se llamó como variable `y`"
   ]
  },
  {
   "cell_type": "code",
   "execution_count": null,
   "metadata": {},
   "outputs": [],
   "source": [
    "prob = y/np.sum(y)\n",
    "values = x[1:]"
   ]
  },
  {
   "cell_type": "markdown",
   "metadata": {},
   "source": [
    "- Con esto, generamos los números aleatorios correspondientes a los rendimientos (tantos como días por número de escenarios)."
   ]
  },
  {
   "cell_type": "code",
   "execution_count": null,
   "metadata": {},
   "outputs": [],
   "source": [
    "ret = np.random.choice(values, ndays*nscen, p=prob)\n",
    "dates = pd.date_range(start=Hoy,periods=ndays)\n",
    "sim_ret_hist = pd.DataFrame(ret.reshape((ndays,nscen)),index=dates)\n",
    "sim_ret_hist"
   ]
  },
  {
   "cell_type": "code",
   "execution_count": null,
   "metadata": {
    "scrolled": false
   },
   "outputs": [],
   "source": [
    "sim_closes_hist = (closes_aapl.iloc[-1,0])*np.exp(sim_ret_hist.cumsum())\n",
    "sim_closes_hist"
   ]
  },
  {
   "cell_type": "code",
   "execution_count": null,
   "metadata": {},
   "outputs": [],
   "source": [
    "sim_closes_hist.plot(figsize=(8,6),legend=False);"
   ]
  },
  {
   "cell_type": "code",
   "execution_count": null,
   "metadata": {},
   "outputs": [],
   "source": [
    "pd.concat([closes_aapl,sim_closes_hist]).plot(figsize=(8,6),legend=False);\n",
    "plt.title('Simulación usando el histograma de los rendimientos')"
   ]
  },
  {
   "cell_type": "code",
   "execution_count": null,
   "metadata": {},
   "outputs": [],
   "source": [
    "K=240\n",
    "ndays = 109\n",
    "nscen = 10000\n",
    "freq, values = np.histogram(ret_aapl+r-mu, bins=2000)\n",
    "prob = freq/np.sum(freq)\n",
    "ret=np.random.choice(values[1:],ndays*nscen,p=prob)\n",
    "dates=pd.date_range('2018-10-29',periods=ndays)\n",
    "sim_ret_hist = pd.DataFrame(ret.reshape((ndays,nscen)),index=dates)\n",
    "sim_closes_hist = (closes_aapl.iloc[-1,0])*np.exp(sim_ret_hist.cumsum())"
   ]
  },
  {
   "cell_type": "code",
   "execution_count": null,
   "metadata": {},
   "outputs": [],
   "source": [
    "strike = pd.DataFrame(K*np.ones(ndays*nscen).reshape((ndays,nscen)), index=dates)\n",
    "call_hist = pd.DataFrame({'Prima':np.exp(-r*ndays)*np.fmax(sim_closes_hist-strike,np.zeros(ndays*nscen).reshape((ndays,nscen))).T.mean()}, index=dates)\n",
    "call_hist.plot();"
   ]
  },
  {
   "cell_type": "code",
   "execution_count": null,
   "metadata": {
    "scrolled": true
   },
   "outputs": [],
   "source": [
    "call_hist.iloc[-1]"
   ]
  },
  {
   "cell_type": "code",
   "execution_count": null,
   "metadata": {},
   "outputs": [],
   "source": [
    "opcion_valuar['JSON']"
   ]
  },
  {
   "cell_type": "markdown",
   "metadata": {},
   "source": [
    "Intervalo de confianza del 95%"
   ]
  },
  {
   "cell_type": "code",
   "execution_count": null,
   "metadata": {
    "scrolled": true
   },
   "outputs": [],
   "source": [
    "confianza = 0.95\n",
    "sigma_est = sim_closes_hist.iloc[-1].sem()\n",
    "mean_est = call_hist.iloc[-1].Prima\n",
    "i1 = st.t.interval(confianza,nscen-1, loc=mean_est, scale=sigma_est)\n",
    "i2 = st.norm.interval(confianza, loc=mean_est, scale=sigma_est)\n",
    "print(i1)\n",
    "print(i1)\n"
   ]
  },
  {
   "cell_type": "markdown",
   "metadata": {},
   "source": [
    "# <font color = 'red'> Tarea: </font>\n",
    "\n",
    "Replicar el procedimiento anterior para valoración de opciones 'call', pero en este caso para opciones tipo 'put'."
   ]
  },
  {
   "cell_type": "markdown",
   "metadata": {},
   "source": [
    "<script>\n",
    "  $(document).ready(function(){\n",
    "    $('div.prompt').hide();\n",
    "    $('div.back-to-top').hide();\n",
    "    $('nav#menubar').hide();\n",
    "    $('.breadcrumb').hide();\n",
    "    $('.hidden-print').hide();\n",
    "  });\n",
    "</script>\n",
    "\n",
    "<footer id=\"attribution\" style=\"float:right; color:#808080; background:#fff;\">\n",
    "Created with Jupyter by Esteban Jiménez Rodríguez and modified by Oscar Jaramillo Z.\n",
    "</footer>"
   ]
  }
 ],
 "metadata": {
  "kernelspec": {
   "display_name": "Python 3",
   "language": "python",
   "name": "python3"
  },
  "language_info": {
   "codemirror_mode": {
    "name": "ipython",
    "version": 3
   },
   "file_extension": ".py",
   "mimetype": "text/x-python",
   "name": "python",
   "nbconvert_exporter": "python",
   "pygments_lexer": "ipython3",
   "version": "3.8.8"
  }
 },
 "nbformat": 4,
 "nbformat_minor": 2
}
